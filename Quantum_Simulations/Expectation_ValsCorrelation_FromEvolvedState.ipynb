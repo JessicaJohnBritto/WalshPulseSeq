{
 "cells": [
  {
   "cell_type": "markdown",
   "id": "ba040c0d-896e-47da-8353-bfc7dbffff96",
   "metadata": {},
   "source": [
    "# Installing Packagages"
   ]
  },
  {
   "cell_type": "code",
   "execution_count": 2,
   "id": "3caedc1f-62ac-4842-b3cc-173d9558cd12",
   "metadata": {},
   "outputs": [],
   "source": [
    "!pip install qiskit --quiet"
   ]
  },
  {
   "cell_type": "code",
   "execution_count": 3,
   "id": "b0fd7722-9e7b-4d6f-8407-770321e5f326",
   "metadata": {},
   "outputs": [],
   "source": [
    "!pip install pylatexenc --quiet"
   ]
  },
  {
   "cell_type": "code",
   "execution_count": 4,
   "id": "80ddba05-aa6d-4a75-a3c1-734abce2f170",
   "metadata": {},
   "outputs": [],
   "source": [
    "!pip install qiskit-ibm-runtime --quiet"
   ]
  },
  {
   "cell_type": "code",
   "execution_count": 5,
   "id": "00664368-d07d-4299-8c66-79a354268883",
   "metadata": {},
   "outputs": [],
   "source": [
    "!pip install qiskit-algorithms --quiet"
   ]
  },
  {
   "cell_type": "markdown",
   "id": "22bcdf20-9b39-4fcd-9b96-2dba044f861d",
   "metadata": {},
   "source": [
    "# Importing Packages"
   ]
  },
  {
   "cell_type": "code",
   "execution_count": 26,
   "id": "027848d1-89c2-42b4-ad10-7347a1e2ede7",
   "metadata": {},
   "outputs": [],
   "source": [
    "from qiskit.quantum_info import SparsePauliOp\n",
    "from math import sin, cos, pi\n",
    "import numpy as np\n",
    "import matplotlib.pyplot as plt\n",
    "from qiskit.quantum_info import Statevector\n",
    "from qiskit_algorithms import TimeEvolutionProblem\n",
    "from qiskit_algorithms import TrotterQRTE\n",
    "from qiskit.primitives import Estimator \n",
    "import scipy as sc\n",
    "from qiskit.circuit import QuantumCircuit\n",
    "from qiskit.circuit.library import PauliEvolutionGate\n",
    "from qiskit.synthesis import LieTrotter\n",
    "from qiskit.synthesis import SuzukiTrotter\n",
    "from qiskit.synthesis import SuzukiTrotter\n",
    "from matplotlib import cm"
   ]
  },
  {
   "cell_type": "markdown",
   "id": "8dada3df-f3ed-40e1-826b-89d024c44bb7",
   "metadata": {},
   "source": [
    "# IBM API Token"
   ]
  },
  {
   "cell_type": "code",
   "execution_count": 7,
   "id": "4b9e8a8f-c28a-4bf7-9e49-1fa5d54e5bb2",
   "metadata": {},
   "outputs": [],
   "source": [
    "IBM_API = '775d892deb7ca683746f77d5d3e054d71d735c7a87a8111da3e3395ef933c1c9f2f14d7ce90208334fd8ee792466cbbc4398d386ecfa0d923a75114832a16678'"
   ]
  },
  {
   "cell_type": "markdown",
   "id": "1dd45869-e51f-467f-8af7-9df4a9dfb382",
   "metadata": {},
   "source": [
    "# Defining Parameters of Hamiltonian"
   ]
  },
  {
   "cell_type": "code",
   "execution_count": 8,
   "id": "5e8e50da-69cf-415a-8aaa-cfa4e4d3b6e0",
   "metadata": {},
   "outputs": [],
   "source": [
    "params = {\n",
    "    'L': 3,\n",
    "    'J': 1,\n",
    "    'alpha': 1,\n",
    "}"
   ]
  },
  {
   "cell_type": "markdown",
   "id": "4481c828-e03c-4b27-9e50-501437695ac4",
   "metadata": {},
   "source": [
    "# Hamiltonian Definition"
   ]
  },
  {
   "cell_type": "code",
   "execution_count": 16,
   "id": "e682b8f4-b8fd-49ad-a329-5791a4cbc96b",
   "metadata": {},
   "outputs": [],
   "source": [
    "def get_hamiltonian(params, **kwargs):\n",
    "    '''\n",
    "    Returns a general XY Hamiltonian.\n",
    "    '''\n",
    "    ## Extract parameters\n",
    "    L, alpha, J = params['L'], params['alpha'], params['J']\n",
    "    \n",
    "    ### Define the XX and YY tuples with corrected list comprehension\n",
    "    ## List of Hamiltonian terms as 3-tuples containing\n",
    "    ## (1) the Pauli string,\n",
    "    ## (2) the qubit indices corresponding to the Pauli string,\n",
    "    ## (3) the coefficient.\n",
    "    XX_tuples = [(\"XX\", [i, j], -J / np.power(np.abs(i - j), alpha)) for i in range(L - 1) for j in range(i + 1, L)]\n",
    "    YY_tuples = [(\"YY\", [i, j], -J / np.power(np.abs(i - j), alpha)) for i in range(L - 1) for j in range(i + 1, L)]\n",
    "    \n",
    "    # Combine the tuples to create the Hamiltonian\n",
    "    hamiltonian = SparsePauliOp.from_sparse_list([*XX_tuples, *YY_tuples], num_qubits=L)\n",
    "    return hamiltonian.simplify()\n",
    "\n",
    "# params = {'L': 3, 'alpha': 1.5, 'J': 1.0}\n",
    "# hamiltonian = get_hamiltonian(params)"
   ]
  },
  {
   "cell_type": "markdown",
   "id": "44ecd8b7-c9bd-40b6-b80b-f33fa4e239ad",
   "metadata": {},
   "source": [
    "# n-Qubit GHZ Initial State"
   ]
  },
  {
   "cell_type": "code",
   "execution_count": 17,
   "id": "6ef9fa88-9ba2-425d-9e4d-b34e47f568aa",
   "metadata": {},
   "outputs": [],
   "source": [
    "def get_qc_for_n_qubit_GHZ_state(params, **kwargs):\n",
    "    \"\"\"This function will create a qiskit.QuantumCircuit (qc) for an n-qubit GHZ state.\n",
    " \n",
    "    Args:\n",
    "        params - only requires 'L' parameter to construct Q.circuit and entangled state.\n",
    " \n",
    "    Returns:\n",
    "        QuantumCircuit: Quantum circuit that generate the n-qubit GHZ state, assuming all qubits start in the 0 state\n",
    "        Entangled n-qubit GHZ state\n",
    "    \"\"\"\n",
    "    n = params['L']\n",
    "    initial_state = '0' * n\n",
    "    sv1 = Statevector.from_label(initial_state)\n",
    "    if isinstance(n, int) and n >= 2:\n",
    "        qc = QuantumCircuit(n)\n",
    "        qc.h(0)\n",
    "        for i in range(n-1):\n",
    "            qc.cx(i, i+1)\n",
    "    else:\n",
    "        raise Exception(\"n is not a valid input\")\n",
    "    new_sv1 = sv1.evolve(qc)\n",
    "    return qc, new_sv1\n",
    " \n",
    "# GHZ_qc, new_sv1 = get_qc_for_n_qubit_GHZ_state(params)\n",
    "# display(GHZ_qc.draw('mpl'))\n",
    "# display(new_sv1.draw('latex'))"
   ]
  },
  {
   "cell_type": "markdown",
   "id": "e25139a3-dcc5-4373-b3c2-f8959f1d308c",
   "metadata": {},
   "source": [
    "# Construction of Observables\n",
    "### - Correlation Operators $Z_i Z_j$ and it's expectation value\n",
    "### - Expectation Value of $<Z_i><Z_j>$"
   ]
  },
  {
   "cell_type": "code",
   "execution_count": 23,
   "id": "7d1e9448-4082-407b-853a-37d30e614563",
   "metadata": {},
   "outputs": [],
   "source": [
    "def observables_construction(params, **kwargs):\n",
    "    '''\n",
    "    Returns the list of observables\n",
    "    '''\n",
    "    L = params['L']\n",
    "    Z_op = SparsePauliOp.from_sparse_list(\n",
    "        [(\"Z\", [i], 1.0) for i in range(0, L)], num_qubits=L\n",
    "    )\n",
    "    correlation_op = SparsePauliOp.from_sparse_list(\n",
    "        [(\"ZZ\", [i, j], 1.0) for i in range(0, L - 1) for j in range(i+1, L)], num_qubits=L\n",
    "    )\n",
    "    return Z_op, correlation_op\n",
    "# Z_op, correlation_op = observables_construction(params)\n",
    "# print(*Z_op)\n",
    "# print(*correlation_op)"
   ]
  },
  {
   "cell_type": "markdown",
   "id": "4e6ee263-d9bd-498f-955e-9125944bdc4f",
   "metadata": {},
   "source": [
    "# Time Evolution of the state"
   ]
  },
  {
   "cell_type": "code",
   "execution_count": 31,
   "id": "df2999f2-e3cf-4875-ac47-3159ada0b7f0",
   "metadata": {},
   "outputs": [
    {
     "name": "stderr",
     "output_type": "stream",
     "text": [
      "/tmp/ipykernel_203/2510858703.py:18: DeprecationWarning: The class ``qiskit.primitives.estimator.Estimator`` is deprecated as of qiskit 1.2. It will be removed no earlier than 3 months after the release date. All implementations of the `BaseEstimatorV1` interface have been deprecated in favor of their V2 counterparts. The V2 alternative for the `Estimator` class is `StatevectorEstimator`.\n",
      "  trotter = TrotterQRTE(num_timesteps=params['time_step'], estimator=Estimator())\n"
     ]
    },
    {
     "data": {
      "text/plain": [
       "(61, 2)"
      ]
     },
     "execution_count": 31,
     "metadata": {},
     "output_type": "execute_result"
    }
   ],
   "source": [
    "params['T'] = 40.0\n",
    "\n",
    "## Assigning Hamiltonian and Observables\n",
    "H = get_hamiltonian(params)\n",
    "Z_op, correlation_op = observables_construction(params)\n",
    "GHZ_qc, initial_state = get_qc_for_n_qubit_GHZ_state(params)\n",
    "\n",
    "## Defining Time Evolution Problem\n",
    "problem = TimeEvolutionProblem(\n",
    "    H,\n",
    "    initial_state=initial_state,\n",
    "    time=params['T'],\n",
    "    aux_operators=[Z_op, correlation_op],\n",
    ")\n",
    "\n",
    "## Performing Trotterization\n",
    "params['time_step'] = 60\n",
    "trotter = TrotterQRTE(num_timesteps=params['time_step'], estimator=Estimator())\n",
    "result = trotter.evolve(problem)\n",
    "\n",
    "## Extracting results of the observables\n",
    "observables = np.array(np.array(result.observables)[:, :, 0])\n",
    "observables.shape"
   ]
  },
  {
   "cell_type": "markdown",
   "id": "f32ee210-c779-4583-95fc-4d26e6e51d7a",
   "metadata": {},
   "source": [
    "# Plotting of Expectation values of Observable"
   ]
  },
  {
   "cell_type": "code",
   "execution_count": 33,
   "id": "d4e21bef-4c5f-47c5-afe0-437cb727effd",
   "metadata": {},
   "outputs": [
    {
     "data": {
      "text/plain": [
       "Text(0.5, 0.98, 'Observable evolution')"
      ]
     },
     "execution_count": 33,
     "metadata": {},
     "output_type": "execute_result"
    },
    {
     "data": {
      "image/png": "[encoded data removed]",
      "text/plain": [
       "<Figure size 640x480 with 2 Axes>"
      ]
     },
     "metadata": {},
     "output_type": "display_data"
    }
   ],
   "source": [
    "fig, axes = plt.subplots(2, sharex=True)\n",
    "times = np.linspace(0, params['T'], params['time_step'] + 1)  # includes initial state\n",
    "axes[0].plot(\n",
    "    times, observables[:, 0], label=\"First order\", marker=\"x\", c=\"darkmagenta\", ls=\"-\", lw=0.8\n",
    ")\n",
    "axes[1].plot(\n",
    "    times, np.round(observables[:, 1].astype(float), decimals = 3), label=\"First order\", marker=\"x\", c=\"darkmagenta\", ls=\"-\", lw=0.8\n",
    ")\n",
    "# axes[2].plot(\n",
    "#     times, observables[:, 2], label=\"First order\", marker=\"x\", c=\"darkmagenta\", ls=\"-\", lw=0.8\n",
    "# )\n",
    "axes[0].set_ylabel(f\"$<Z_i>$\")\n",
    "axes[1].set_ylabel(f\"$<Z_iZ_j>$\")\n",
    "# axes[2].set_ylabel(\"Mean spin correlation\")\n",
    "axes[1].set_xlabel(\"Time\")\n",
    "fig.suptitle(\"Observable evolution\")"
   ]
  },
  {
   "cell_type": "code",
   "execution_count": 154,
   "id": "2a7ec71d-f6b8-464e-9166-5e74270f89fa",
   "metadata": {},
   "outputs": [
    {
     "data": {
      "text/plain": [
       "array([ 0.,  0., -0.,  0.,  0.,  0.,  0.,  0.,  0.,  0.,  0.,  0.,  0.,\n",
       "        0.,  0.,  0.,  0.,  0.,  0.,  0.,  0.,  0.,  0.,  0.,  0.,  0.,\n",
       "        0.,  0.,  0.,  0.,  0.,  0.,  0.,  0.,  0.,  0.,  0., -0.,  0.,\n",
       "       -0., -0.,  0.,  0.,  0.,  0.,  0., -0.,  0.,  0., -0., -0.,  0.,\n",
       "        0., -0.,  0.,  0.,  0., -0., -0.,  0.,  0.])"
      ]
     },
     "execution_count": 154,
     "metadata": {},
     "output_type": "execute_result"
    }
   ],
   "source": [
    "np.round(observables[:, 0].astype(float), decimals = 3)"
   ]
  },
  {
   "cell_type": "markdown",
   "id": "e9925b6c-87f8-4dcf-b52c-b3a3b4c96005",
   "metadata": {},
   "source": [
    "# Execution on Real Hardware"
   ]
  },
  {
   "cell_type": "code",
   "execution_count": null,
   "id": "60c342c9-d9e3-4440-ba54-4ccdc7b7eaa3",
   "metadata": {},
   "outputs": [],
   "source": []
  }
 ],
 "metadata": {
  "kernelspec": {
   "display_name": "Python 3 [Default]",
   "language": "python",
   "name": "python3"
  },
  "language_info": {
   "codemirror_mode": {
    "name": "ipython",
    "version": 3
   },
   "file_extension": ".py",
   "mimetype": "text/x-python",
   "name": "python",
   "nbconvert_exporter": "python",
   "pygments_lexer": "ipython3",
   "version": "3.11.9"
  }
 },
 "nbformat": 4,
 "nbformat_minor": 5
}
