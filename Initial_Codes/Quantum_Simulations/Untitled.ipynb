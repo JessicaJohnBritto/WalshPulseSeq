{
 "cells": [
  {
   "cell_type": "code",
   "execution_count": 74,
   "id": "3ccc78dd-d1cd-46d4-b431-d98e1733f429",
   "metadata": {},
   "outputs": [],
   "source": [
    "!pip install qiskit --quiet"
   ]
  },
  {
   "cell_type": "code",
   "execution_count": 75,
   "id": "be355ee8-aa42-4509-a69f-98d5249a8c5d",
   "metadata": {},
   "outputs": [],
   "source": [
    "!pip install pylatexenc --quiet"
   ]
  },
  {
   "cell_type": "code",
   "execution_count": 76,
   "id": "baf479a2-e685-410c-9254-40498484e0a7",
   "metadata": {},
   "outputs": [],
   "source": [
    "!pip install qiskit-ibm-runtime --quiet"
   ]
  },
  {
   "cell_type": "code",
   "execution_count": 77,
   "id": "751b528d-395c-441c-bde4-970d4cfa0110",
   "metadata": {},
   "outputs": [],
   "source": [
    "!pip install qiskit-algorithms --quiet"
   ]
  },
  {
   "cell_type": "code",
   "execution_count": 78,
   "id": "0ee63d41-ef12-4afe-b610-9380ad193d97",
   "metadata": {},
   "outputs": [
    {
     "ename": "TypeError",
     "evalue": "must be real number, not list",
     "output_type": "error",
     "traceback": [
      "\u001b[0;31m---------------------------------------------------------------------------\u001b[0m",
      "\u001b[0;31mTypeError\u001b[0m                                 Traceback (most recent call last)",
      "Cell \u001b[0;32mIn[78], line 16\u001b[0m\n\u001b[1;32m     13\u001b[0m hamiltonian \u001b[38;5;241m=\u001b[39m SparsePauliOp\u001b[38;5;241m.\u001b[39mfrom_sparse_list(interactions \u001b[38;5;241m+\u001b[39m field, num_qubits\u001b[38;5;241m=\u001b[39mn)\n\u001b[1;32m     15\u001b[0m \u001b[38;5;66;03m# Define observables for XiXj, Xi, and Xj\u001b[39;00m\n\u001b[0;32m---> 16\u001b[0m XiXj_observables \u001b[38;5;241m=\u001b[39m \u001b[43m[\u001b[49m\u001b[43mSparsePauliOp\u001b[49m\u001b[38;5;241;43m.\u001b[39;49m\u001b[43mfrom_list\u001b[49m\u001b[43m(\u001b[49m\u001b[43m[\u001b[49m\u001b[43m(\u001b[49m\u001b[38;5;124;43m\"\u001b[39;49m\u001b[38;5;124;43mXX\u001b[39;49m\u001b[38;5;124;43m\"\u001b[39;49m\u001b[43m,\u001b[49m\u001b[43m \u001b[49m\u001b[43m[\u001b[49m\u001b[43mi\u001b[49m\u001b[43m,\u001b[49m\u001b[43m \u001b[49m\u001b[43mj\u001b[49m\u001b[43m]\u001b[49m\u001b[43m)\u001b[49m\u001b[43m]\u001b[49m\u001b[43m,\u001b[49m\u001b[43m \u001b[49m\u001b[43mnum_qubits\u001b[49m\u001b[38;5;241;43m=\u001b[39;49m\u001b[43mn\u001b[49m\u001b[43m)\u001b[49m\u001b[43m \u001b[49m\u001b[38;5;28;43;01mfor\u001b[39;49;00m\u001b[43m \u001b[49m\u001b[43mi\u001b[49m\u001b[43m \u001b[49m\u001b[38;5;129;43;01min\u001b[39;49;00m\u001b[43m \u001b[49m\u001b[38;5;28;43mrange\u001b[39;49m\u001b[43m(\u001b[49m\u001b[43mn\u001b[49m\u001b[43m)\u001b[49m\u001b[43m \u001b[49m\u001b[38;5;28;43;01mfor\u001b[39;49;00m\u001b[43m \u001b[49m\u001b[43mj\u001b[49m\u001b[43m \u001b[49m\u001b[38;5;129;43;01min\u001b[39;49;00m\u001b[43m \u001b[49m\u001b[38;5;28;43mrange\u001b[39;49m\u001b[43m(\u001b[49m\u001b[43mi\u001b[49m\u001b[43m \u001b[49m\u001b[38;5;241;43m+\u001b[39;49m\u001b[43m \u001b[49m\u001b[38;5;241;43m1\u001b[39;49m\u001b[43m,\u001b[49m\u001b[43m \u001b[49m\u001b[43mn\u001b[49m\u001b[43m)\u001b[49m\u001b[43m]\u001b[49m\n\u001b[1;32m     17\u001b[0m Xi_observables \u001b[38;5;241m=\u001b[39m [SparsePauliOp\u001b[38;5;241m.\u001b[39mfrom_list([(\u001b[38;5;124m\"\u001b[39m\u001b[38;5;124mX\u001b[39m\u001b[38;5;124m\"\u001b[39m, [i])], num_qubits\u001b[38;5;241m=\u001b[39mn) \u001b[38;5;28;01mfor\u001b[39;00m i \u001b[38;5;129;01min\u001b[39;00m \u001b[38;5;28mrange\u001b[39m(n)]\n\u001b[1;32m     18\u001b[0m Xj_observables \u001b[38;5;241m=\u001b[39m [SparsePauliOp\u001b[38;5;241m.\u001b[39mfrom_list([(\u001b[38;5;124m\"\u001b[39m\u001b[38;5;124mX\u001b[39m\u001b[38;5;124m\"\u001b[39m, [j])], num_qubits\u001b[38;5;241m=\u001b[39mn) \u001b[38;5;28;01mfor\u001b[39;00m j \u001b[38;5;129;01min\u001b[39;00m \u001b[38;5;28mrange\u001b[39m(n)]\n",
      "Cell \u001b[0;32mIn[78], line 16\u001b[0m, in \u001b[0;36m<listcomp>\u001b[0;34m(.0)\u001b[0m\n\u001b[1;32m     13\u001b[0m hamiltonian \u001b[38;5;241m=\u001b[39m SparsePauliOp\u001b[38;5;241m.\u001b[39mfrom_sparse_list(interactions \u001b[38;5;241m+\u001b[39m field, num_qubits\u001b[38;5;241m=\u001b[39mn)\n\u001b[1;32m     15\u001b[0m \u001b[38;5;66;03m# Define observables for XiXj, Xi, and Xj\u001b[39;00m\n\u001b[0;32m---> 16\u001b[0m XiXj_observables \u001b[38;5;241m=\u001b[39m [\u001b[43mSparsePauliOp\u001b[49m\u001b[38;5;241;43m.\u001b[39;49m\u001b[43mfrom_list\u001b[49m\u001b[43m(\u001b[49m\u001b[43m[\u001b[49m\u001b[43m(\u001b[49m\u001b[38;5;124;43m\"\u001b[39;49m\u001b[38;5;124;43mXX\u001b[39;49m\u001b[38;5;124;43m\"\u001b[39;49m\u001b[43m,\u001b[49m\u001b[43m \u001b[49m\u001b[43m[\u001b[49m\u001b[43mi\u001b[49m\u001b[43m,\u001b[49m\u001b[43m \u001b[49m\u001b[43mj\u001b[49m\u001b[43m]\u001b[49m\u001b[43m)\u001b[49m\u001b[43m]\u001b[49m\u001b[43m,\u001b[49m\u001b[43m \u001b[49m\u001b[43mnum_qubits\u001b[49m\u001b[38;5;241;43m=\u001b[39;49m\u001b[43mn\u001b[49m\u001b[43m)\u001b[49m \u001b[38;5;28;01mfor\u001b[39;00m i \u001b[38;5;129;01min\u001b[39;00m \u001b[38;5;28mrange\u001b[39m(n) \u001b[38;5;28;01mfor\u001b[39;00m j \u001b[38;5;129;01min\u001b[39;00m \u001b[38;5;28mrange\u001b[39m(i \u001b[38;5;241m+\u001b[39m \u001b[38;5;241m1\u001b[39m, n)]\n\u001b[1;32m     17\u001b[0m Xi_observables \u001b[38;5;241m=\u001b[39m [SparsePauliOp\u001b[38;5;241m.\u001b[39mfrom_list([(\u001b[38;5;124m\"\u001b[39m\u001b[38;5;124mX\u001b[39m\u001b[38;5;124m\"\u001b[39m, [i])], num_qubits\u001b[38;5;241m=\u001b[39mn) \u001b[38;5;28;01mfor\u001b[39;00m i \u001b[38;5;129;01min\u001b[39;00m \u001b[38;5;28mrange\u001b[39m(n)]\n\u001b[1;32m     18\u001b[0m Xj_observables \u001b[38;5;241m=\u001b[39m [SparsePauliOp\u001b[38;5;241m.\u001b[39mfrom_list([(\u001b[38;5;124m\"\u001b[39m\u001b[38;5;124mX\u001b[39m\u001b[38;5;124m\"\u001b[39m, [j])], num_qubits\u001b[38;5;241m=\u001b[39mn) \u001b[38;5;28;01mfor\u001b[39;00m j \u001b[38;5;129;01min\u001b[39;00m \u001b[38;5;28mrange\u001b[39m(n)]\n",
      "File \u001b[0;32m/opt/.qbraid/environments/qbraid_000000/pyenv/lib/python3.11/site-packages/qiskit/quantum_info/operators/symplectic/sparse_pauli_op.py:832\u001b[0m, in \u001b[0;36mSparsePauliOp.from_list\u001b[0;34m(obj, dtype, num_qubits)\u001b[0m\n\u001b[1;32m    830\u001b[0m \u001b[38;5;28;01mfor\u001b[39;00m i, item \u001b[38;5;129;01min\u001b[39;00m \u001b[38;5;28menumerate\u001b[39m(obj):\n\u001b[1;32m    831\u001b[0m     labels[i] \u001b[38;5;241m=\u001b[39m item[\u001b[38;5;241m0\u001b[39m]\n\u001b[0;32m--> 832\u001b[0m     \u001b[43mcoeffs\u001b[49m\u001b[43m[\u001b[49m\u001b[43mi\u001b[49m\u001b[43m]\u001b[49m \u001b[38;5;241m=\u001b[39m item[\u001b[38;5;241m1\u001b[39m]\n\u001b[1;32m    834\u001b[0m paulis \u001b[38;5;241m=\u001b[39m PauliList(labels)\n\u001b[1;32m    835\u001b[0m \u001b[38;5;28;01mreturn\u001b[39;00m SparsePauliOp(paulis, coeffs, copy\u001b[38;5;241m=\u001b[39m\u001b[38;5;28;01mFalse\u001b[39;00m)\n",
      "\u001b[0;31mTypeError\u001b[0m: must be real number, not list"
     ]
    }
   ],
   "source": [
    "from qiskit import QuantumCircuit\n",
    "from qiskit.quantum_info import SparsePauliOp, PauliList\n",
    "from qiskit_ibm_runtime import QiskitRuntimeService, Sampler\n",
    "\n",
    "# Define the number of qubits\n",
    "n = 2\n",
    "\n",
    "# Define the single Pauli terms as (\"Paulis\", [indices], coefficient)\n",
    "interactions = [(\"ZZ\", [i, i + 1], 1) for i in range(n - 1)]  # Nearest-neighbor interaction\n",
    "field = [(\"X\", [i], -1) for i in range(n)]  # Local field\n",
    "\n",
    "# Build the Hamiltonian operator\n",
    "hamiltonian = SparsePauliOp.from_sparse_list(interactions + field, num_qubits=n)\n",
    "\n",
    "# Define observables for XiXj, Xi, and Xj\n",
    "XiXj_observables = [SparsePauliOp.from_list([(\"XX\", [i, j])], num_qubits=n) for i in range(n) for j in range(i + 1, n)]\n",
    "Xi_observables = [SparsePauliOp.from_list([(\"X\", [i])], num_qubits=n) for i in range(n)]\n",
    "Xj_observables = [SparsePauliOp.from_list([(\"X\", [j])], num_qubits=n) for j in range(n)]\n"
   ]
  },
  {
   "cell_type": "code",
   "execution_count": null,
   "id": "7b5599d3-765f-4002-8f11-e79af8ebe216",
   "metadata": {},
   "outputs": [],
   "source": [
    "from qiskit import transpile\n",
    "from qiskit.circuit.library import PauliEvolutionGate\n",
    "import numpy as np\n",
    "\n",
    "# Create a new circuit\n",
    "qc = QuantumCircuit(n)\n",
    "\n",
    "# Add initial state (e.g., all qubits in |0⟩ state)\n",
    "qc.h(range(n))  # Apply Hadamard gate to all qubits\n",
    "\n",
    "# Time evolution\n",
    "T = 10\n",
    "time_points = np.linspace(0, T, 100)\n",
    "\n",
    "# Apply the evolution gate for each time step\n",
    "sampler = Sampler()\n",
    "results = []\n",
    "\n",
    "for t in time_points:\n",
    "    evo_gate = PauliEvolutionGate(hamiltonian, time=t)\n",
    "    evolved_circuit = qc.copy()\n",
    "    evolved_circuit.append(evo_gate, range(n))\n",
    "    \n",
    "    # Transpile for the backend\n",
    "    transpiled_circuit = transpile(evolved_circuit, backend=backend)\n",
    "    \n",
    "    # Run the job on the simulator or real quantum device\n",
    "    job = sampler.run(circuits=[transpiled_circuit], observables=XiXj_observables + Xi_observables + Xj_observables)\n",
    "    result = job.result()\n",
    "    \n",
    "    results.append(result)\n"
   ]
  },
  {
   "cell_type": "code",
   "execution_count": null,
   "id": "71b54ce2-60a8-40cc-b4e5-1fc530adc421",
   "metadata": {},
   "outputs": [],
   "source": [
    "import matplotlib.pyplot as plt\n",
    "\n",
    "correlations = []\n",
    "\n",
    "for i in range(len(time_points)):\n",
    "    xi_xj_expectation = results[i].quasi_distances[:len(XiXj_observables)]\n",
    "    xi_expectation = results[i].quasi_distances[len(XiXj_observables):len(XiXj_observables) + len(Xi_observables)]\n",
    "    xj_expectation = results[i].quasi_distances[len(XiXj_observables) + len(Xi_observables):]\n",
    "\n",
    "    correlation = xi_xj_expectation - np.outer(xi_expectation, xj_expectation)\n",
    "    correlations.append(correlation)\n",
    "\n",
    "# Plot the correlation over time\n",
    "plt.figure(figsize=(10, 6))\n",
    "for idx in range(len(correlations[0])):\n",
    "    plt.plot(time_points, [cor[idx] for cor in correlations], label=f'Correlation between qubit {idx}')\n",
    "\n",
    "plt.xlabel('Time (s)')\n",
    "plt.ylabel('Correlation')\n",
    "plt.legend()\n",
    "plt.grid(True)\n",
    "plt.title('Correlation \\(\\langle X_iX_j \\rangle - \\langle X_i \\rangle\\langle X_j \\rangle\\) over Time')\n",
    "plt.show()\n"
   ]
  },
  {
   "cell_type": "code",
   "execution_count": 3,
   "id": "d93223ba-3964-442f-b26f-821713e359b1",
   "metadata": {},
   "outputs": [
    {
     "data": {
      "image/png": "[encoded data removed]",
      "text/plain": [
       "<Figure size 287.294x200.667 with 1 Axes>"
      ]
     },
     "execution_count": 3,
     "metadata": {},
     "output_type": "execute_result"
    }
   ],
   "source": [
    "from qiskit import QuantumCircuit\n",
    "from qiskit.quantum_info import SparsePauliOp\n",
    "from qiskit.transpiler.preset_passmanagers import generate_preset_pass_manager\n",
    "from qiskit_ibm_runtime import EstimatorV2 as Estimator\n",
    " \n",
    "# Create a new circuit with two qubits\n",
    "qc = QuantumCircuit(2)\n",
    " \n",
    "# Add a Hadamard gate to qubit 0\n",
    "qc.h(0)\n",
    " \n",
    "# Perform a controlled-X gate on qubit 1, controlled by qubit 0\n",
    "qc.cx(0, 1)\n",
    " \n",
    "# Return a drawing of the circuit using MatPlotLib (\"mpl\"). This is the\n",
    "# last line of the cell, so the drawing appears in the cell output.\n",
    "# Remove the \"mpl\" argument to get a text drawing.\n",
    "qc.draw(\"mpl\")"
   ]
  },
  {
   "cell_type": "code",
   "execution_count": 7,
   "id": "59da82e8-fba0-4843-900d-8bcc880c98a9",
   "metadata": {},
   "outputs": [],
   "source": [
    "# Set up six different observables.\n",
    "from qiskit.quantum_info import SparsePauliOp\n",
    " \n",
    "observables_labels = [\"IX\", \"XI\", \"XX\"]\n",
    "observables = [SparsePauliOp(label) for label in observables_labels]"
   ]
  },
  {
   "cell_type": "code",
   "execution_count": 10,
   "id": "5836f9c6-b34a-4eca-a40a-e67ee54c5f50",
   "metadata": {},
   "outputs": [
    {
     "name": "stderr",
     "output_type": "stream",
     "text": [
      "/opt/.qbraid/environments/qbraid_000000/pyenv/lib/python3.11/site-packages/qiskit_ibm_runtime/fake_provider/fake_backend.py:468: RuntimeWarning: Aer not found, using qiskit.BasicSimulator and no noise.\n",
      "  warnings.warn(\n"
     ]
    }
   ],
   "source": [
    " \n",
    "# Use the following code instead if you want to run on a simulator:\n",
    " \n",
    "from qiskit_ibm_runtime.fake_provider import FakeAlmadenV2\n",
    "backend = FakeAlmadenV2()\n",
    "estimator = Estimator(backend)\n",
    " \n",
    "# Convert to an ISA circuit and layout-mapped observables.\n",
    " \n",
    "pm = generate_preset_pass_manager(backend=backend, optimization_level=1)\n",
    "isa_circuit = pm.run(qc)\n",
    "mapped_observables = [\n",
    "    observable.apply_layout(isa_circuit.layout) for observable in observables\n",
    "]\n",
    " \n",
    "job = estimator.run([(isa_circuit, mapped_observables)])\n",
    "result = job.result()\n",
    " \n",
    "# This is the result of the entire submission.  You submitted one Pub,\n",
    "# so this contains one inner result (and some metadata of its own).\n",
    " \n",
    "job_result = job.result()\n",
    " \n",
    "# This is the result from our single pub, which had five observables,\n",
    "# so contains information on all five.\n",
    " \n",
    "pub_result = job.result()[0]"
   ]
  },
  {
   "cell_type": "code",
   "execution_count": 11,
   "id": "711ba3ef-d2de-4854-831b-a1eba0145c3c",
   "metadata": {},
   "outputs": [
    {
     "data": {
      "image/png": "[encoded data removed]",
      "text/plain": [
       "<Figure size 640x480 with 1 Axes>"
      ]
     },
     "metadata": {},
     "output_type": "display_data"
    }
   ],
   "source": [
    "# Plot the result\n",
    " \n",
    "from matplotlib import pyplot as plt\n",
    " \n",
    "values = pub_result.data.evs\n",
    " \n",
    "errors = pub_result.data.stds\n",
    " \n",
    "# plotting graph\n",
    "plt.plot(observables_labels, values, '-o')\n",
    "plt.xlabel('Observables')\n",
    "plt.ylabel('Values')\n",
    "plt.show()"
   ]
  },
  {
   "cell_type": "markdown",
   "id": "b9b4d704-46b0-409e-a7b7-168cc641902d",
   "metadata": {},
   "source": [
    "# Constructing Hamiltonians"
   ]
  },
  {
   "cell_type": "code",
   "execution_count": 79,
   "id": "ad164971-0ced-4b29-9399-40195129822c",
   "metadata": {},
   "outputs": [],
   "source": [
    "from qiskit import QuantumCircuit\n",
    "from qiskit.quantum_info import SparsePauliOp\n",
    "from qiskit.transpiler.preset_passmanagers import generate_preset_pass_manager\n",
    "from qiskit_ibm_runtime import EstimatorV2 as Estimator\n",
    "import numpy as np\n",
    "from qiskit.quantum_info import Statevector\n",
    "from qiskit_algorithms import TimeEvolutionProblem\n",
    "from qiskit_algorithms import TrotterQRTE\n",
    "from qiskit_ibm_runtime.fake_provider import FakeAlmadenV2\n",
    "from matplotlib import pyplot as plt"
   ]
  },
  {
   "cell_type": "code",
   "execution_count": 80,
   "id": "052453f3-e751-4b75-bf3f-907a47f86158",
   "metadata": {},
   "outputs": [],
   "source": [
    "## Hamiltonian Construction\n",
    "n = 2 \n",
    "interactions_X = [(\"XX\", [i, i + 1], 1) for i in range(n - 1)]  \n",
    "interactions_Y = [(\"YY\", [i, i + 1], 1) for i in range(n - 1)]  \n",
    "hamiltonian = SparsePauliOp.from_sparse_list(interactions_X + interactions_Y, num_qubits=n)"
   ]
  },
  {
   "cell_type": "code",
   "execution_count": 82,
   "id": "10d00864-89b8-43a5-b502-81ccdcdb7733",
   "metadata": {},
   "outputs": [
    {
     "name": "stdout",
     "output_type": "stream",
     "text": [
      "[SparsePauliOp(['IX'],\n",
      "              coeffs=[1.+0.j]), SparsePauliOp(['XI'],\n",
      "              coeffs=[1.+0.j]), SparsePauliOp(['XX'],\n",
      "              coeffs=[1.+0.j])]\n"
     ]
    }
   ],
   "source": [
    "# ## Set of Observables whose expval needs to be computed\n",
    "# observables_labels = [\"IX\", \"XI\", \"XX\"]\n",
    "# observables = [SparsePauliOp(label) for label in observables_labels]\n",
    "# print(observables)"
   ]
  },
  {
   "cell_type": "code",
   "execution_count": null,
   "id": "448010a3-0210-4532-96ad-730a403f40db",
   "metadata": {},
   "outputs": [],
   "source": [
    "magnetization_op = SparsePauliOp.from_sparse_list(\n",
    "    [(\"X\", [i], 1.0) for i in range(0, L)], num_qubits=L\n",
    ")\n",
    "correlation_op = SparsePauliOp.from_sparse_list(\n",
    "    [(\"ZZ\", [i, i + 1], 1.0) for i in range(0, L - 1)], num_qubits=L\n",
    ") "
   ]
  },
  {
   "cell_type": "code",
   "execution_count": 62,
   "id": "58806a18-7976-4213-a4fb-b85e25f8ba26",
   "metadata": {},
   "outputs": [
    {
     "data": {
      "image/png": "[encoded data removed]",
      "text/plain": [
       "<Figure size 370.906x200.667 with 1 Axes>"
      ]
     },
     "metadata": {},
     "output_type": "display_data"
    },
    {
     "data": {
      "text/latex": [
       "$$\\frac{\\sqrt{2}}{2} |01\\rangle+\\frac{\\sqrt{2}}{2} |10\\rangle$$"
      ],
      "text/plain": [
       "<IPython.core.display.Latex object>"
      ]
     },
     "metadata": {},
     "output_type": "display_data"
    }
   ],
   "source": [
    "final_time = 10\n",
    "## First spin up, second spin down\n",
    "## (remember that the labels are interpreted from right to left)\n",
    "sv1 = Statevector.from_label('00') # start with |00>\n",
    "\n",
    "mycircuit1 = QuantumCircuit(2)\n",
    "mycircuit1.h(0)\n",
    "mycircuit1.cx(0,1)\n",
    "\n",
    "mycircuit1.x(0) # apply x gate after CNOT\n",
    "\n",
    "new_sv1 = sv1.evolve(mycircuit1)\n",
    "display(mycircuit1.draw('mpl'))\n",
    "display(new_sv1.draw('latex'))"
   ]
  },
  {
   "cell_type": "code",
   "execution_count": 66,
   "id": "99b8553f-81ef-4e74-b0f0-03c184270070",
   "metadata": {},
   "outputs": [],
   "source": [
    "problem = TimeEvolutionProblem(hamiltonian, initial_state=new_sv1, time=final_time, aux_operators=[])\n",
    "\n",
    "trotter = TrotterQRTE()\n",
    "result = trotter.evolve(problem)"
   ]
  },
  {
   "cell_type": "code",
   "execution_count": 67,
   "id": "dbbc605b-50d3-49b4-a048-88a8865e3aa6",
   "metadata": {},
   "outputs": [
    {
     "data": {
      "image/png": "[encoded data removed]",
      "text/plain": [
       "<Figure size 1123.41x200.667 with 1 Axes>"
      ]
     },
     "execution_count": 67,
     "metadata": {},
     "output_type": "execute_result"
    }
   ],
   "source": [
    "result.evolved_state.decompose(reps=2).decompose(\"disentangler_dg\").decompose(\n",
    "    \"multiplex1_reverse_dg\"\n",
    ").draw(\"mpl\")"
   ]
  },
  {
   "cell_type": "code",
   "execution_count": 68,
   "id": "c587d6c2-7cb4-4c14-aba8-3692b577fdaa",
   "metadata": {},
   "outputs": [
    {
     "data": {
      "image/jpeg": "[encoded data removed]",
      "image/png": "[encoded data removed]",
      "text/plain": [
       "<PIL.Image.Image image mode=RGB size=484x66>"
      ]
     },
     "metadata": {},
     "output_type": "display_data"
    }
   ],
   "source": [
    "display(result.evolved_state.draw('latex'))"
   ]
  },
  {
   "cell_type": "code",
   "execution_count": 70,
   "id": "b1193610-41ea-4ec9-8c02-da91145b0b56",
   "metadata": {},
   "outputs": [
    {
     "name": "stdout",
     "output_type": "stream",
     "text": [
      "Statevector([-1.58187870e-17+8.66340428e-17j,\n",
      "              2.88557593e-01-6.45549778e-01j,\n",
      "              2.88557593e-01-6.45549778e-01j,\n",
      "             -1.58187870e-17+1.25886354e-16j],\n",
      "            dims=(2, 2))\n"
     ]
    }
   ],
   "source": [
    "statevector = Statevector(result.evolved_state)\n",
    "print(statevector)"
   ]
  },
  {
   "cell_type": "code",
   "execution_count": 72,
   "id": "c63ecde4-237d-43ca-bc45-d0807d69043a",
   "metadata": {},
   "outputs": [
    {
     "name": "stderr",
     "output_type": "stream",
     "text": [
      "/opt/.qbraid/environments/qbraid_000000/pyenv/lib/python3.11/site-packages/qiskit_ibm_runtime/fake_provider/fake_backend.py:468: RuntimeWarning: Aer not found, using qiskit.BasicSimulator and no noise.\n",
      "  warnings.warn(\n"
     ]
    }
   ],
   "source": [
    "backend = FakeAlmadenV2()\n",
    "estimator = Estimator(backend)\n",
    "\n",
    "# Convert to an ISA circuit and layout-mapped observables.\n",
    "pm = generate_preset_pass_manager(backend=backend, optimization_level=1)\n",
    "isa_circuit = pm.run(result.evolved_state)\n",
    "mapped_observables = [\n",
    "    observable.apply_layout(isa_circuit.layout) for observable in observables]\n",
    " \n",
    "job = estimator.run([(isa_circuit, mapped_observables)])\n",
    "result = job.result()\n",
    " \n",
    "# This is the result of the entire submission.  You submitted one Pub,\n",
    "# so this contains one inner result (and some metadata of its own).\n",
    "job_result = job.result()\n",
    "# This is the result from our single pub, which had five observables,\n",
    "# so contains information on all five.\n",
    "pub_result = job.result()[0]"
   ]
  },
  {
   "cell_type": "code",
   "execution_count": 73,
   "id": "7ad18148-dda2-484d-8731-acfd91b0d28a",
   "metadata": {},
   "outputs": [
    {
     "data": {
      "image/png": "[encoded data removed]",
      "text/plain": [
       "<Figure size 640x480 with 1 Axes>"
      ]
     },
     "metadata": {},
     "output_type": "display_data"
    }
   ],
   "source": [
    "# Plot the result\n",
    "values = pub_result.data.evs\n",
    "errors = pub_result.data.stds \n",
    "# plotting graph\n",
    "plt.plot(observables_labels, values, '-o')\n",
    "plt.xlabel('Observables')\n",
    "plt.ylabel('Values')\n",
    "plt.show()"
   ]
  }
 ],
 "metadata": {
  "kernelspec": {
   "display_name": "Python 3 [Default]",
   "language": "python",
   "name": "python3"
  },
  "language_info": {
   "codemirror_mode": {
    "name": "ipython",
    "version": 3
   },
   "file_extension": ".py",
   "mimetype": "text/x-python",
   "name": "python",
   "nbconvert_exporter": "python",
   "pygments_lexer": "ipython3",
   "version": "3.11.9"
  }
 },
 "nbformat": 4,
 "nbformat_minor": 5
}
