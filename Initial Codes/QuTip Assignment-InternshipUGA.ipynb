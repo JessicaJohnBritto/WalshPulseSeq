{
 "cells": [
  {
   "cell_type": "markdown",
   "id": "3a3a8c88",
   "metadata": {},
   "source": [
    "# QuTip Practice Codes"
   ]
  },
  {
   "cell_type": "code",
   "execution_count": 1,
   "id": "9aa707eb",
   "metadata": {},
   "outputs": [
    {
     "name": "stderr",
     "output_type": "stream",
     "text": [
      "D:\\anacondafinal\\lib\\site-packages\\qutip\\__init__.py:66: UserWarning: The new version of Cython, (>= 3.0.0) is not supported.\n",
      "  warnings.warn(\n"
     ]
    }
   ],
   "source": [
    "import qutip"
   ]
  },
  {
   "cell_type": "code",
   "execution_count": 6,
   "id": "c81d7479",
   "metadata": {},
   "outputs": [],
   "source": [
    "from qutip import *\n",
    "import numpy as np\n",
    "from numpy import linalg\n",
    "from scipy import linalg as splinalg\n",
    "import matplotlib.pyplot as plt\n",
    "from sklearn.preprocessing import normalize\n",
    "from scipy import sparse as sp\n",
    "import scipy.sparse.linalg\n",
    "from functools import reduce\n",
    "from sklearn.preprocessing import normalize\n",
    "import itertools"
   ]
  },
  {
   "cell_type": "code",
   "execution_count": null,
   "id": "b3abd5cf",
   "metadata": {},
   "outputs": [],
   "source": [
    "# We make use of Quantum Object Class using matrix representation\n",
    "# since we need a data structure to store the properties of a \n",
    "# quantum operator and its eigenstates and values.\n",
    "# The output corresponds to a 1X1 matrix with one zero entry.\n",
    "# Names of classes are capitalized unlike the functions in Python\n",
    "print(Qobj(), '\\n \\n********************** \\n')\n",
    "\n",
    "# Creating a user-defined data set by passing them in the form of\n",
    "# arrays into the Q. Object class\n",
    "print(Qobj([[1], [2], [3], [4], [5]]), '\\n \\n********************** \\n') # 5X1 matrix - column vector\n",
    "\n",
    "x = np.array([[1, 2, 3, 4, 5]])\n",
    "print(Qobj(x), '\\n \\n********************** \\n')\n",
    "\n",
    "r = np.random.rand(4, 4)\n",
    "print(Qobj(r), '\\n \\n********************** \\n')\n",
    "\n",
    "# Although dims and shape appear to be the same,\n",
    "# dims keep track of the shapes of the individual \n",
    "# components of a multipartite system - check tensor section\n",
    "\n",
    "# QuTip has built-in functions of commonly used state vectors\n",
    "# Fock state ket vector: N = no. of levels in Hilbert space, #m = level containing excitation\n",
    "N = 4\n",
    "m = 0\n",
    "alpha = 4+1j\n",
    "f = fock(4, 3)\n",
    "print(f, '\\n \\n********************** \\n')\n",
    "\n",
    "#Empty ket vector\n",
    "zero_ket(N)\n",
    "\n",
    "#Fock density matrix (outer product of basis) - hermitian by default\n",
    "# Arguments same as fock(N,m)\n",
    "fock_dm(N,3)\n",
    "\n",
    "#Coherent state, alpha = complex no. (eigenvalue)\n",
    "coherent(N,alpha)\n",
    "\n",
    "#Coherent density matrix (outer product)\n",
    "coherent_dm(N,alpha)\n",
    "\n",
    "#Thermal density matrix (for n particles), n = particle number expectation value \n",
    "print(thermal_dm(N,1010)) # What does this mean by particle number expectation value?\n",
    "\n",
    "print(coherent_dm(N,alpha).dims) "
   ]
  },
  {
   "cell_type": "code",
   "execution_count": null,
   "id": "162d3b27",
   "metadata": {},
   "outputs": [],
   "source": [
    "q = destroy(4)\n",
    "print(q)"
   ]
  },
  {
   "cell_type": "code",
   "execution_count": null,
   "id": "90ed46a1",
   "metadata": {},
   "outputs": [],
   "source": [
    "x = sigmax()"
   ]
  },
  {
   "cell_type": "code",
   "execution_count": null,
   "id": "8a44a38b",
   "metadata": {},
   "outputs": [],
   "source": [
    "q + 5"
   ]
  },
  {
   "cell_type": "code",
   "execution_count": null,
   "id": "c25949c5",
   "metadata": {},
   "outputs": [],
   "source": [
    "x * x"
   ]
  },
  {
   "cell_type": "code",
   "execution_count": null,
   "id": "171d057e",
   "metadata": {},
   "outputs": [],
   "source": [
    "q ** 3"
   ]
  },
  {
   "cell_type": "code",
   "execution_count": null,
   "id": "6052c032",
   "metadata": {},
   "outputs": [],
   "source": [
    "x / np.sqrt(2)"
   ]
  },
  {
   "cell_type": "code",
   "execution_count": null,
   "id": "500aea06",
   "metadata": {},
   "outputs": [],
   "source": [
    "vac = basis(5, 0)\n",
    "print(vac)\n",
    "a = destroy(5)\n",
    "print(a)"
   ]
  },
  {
   "cell_type": "code",
   "execution_count": null,
   "id": "1d1d9598",
   "metadata": {},
   "outputs": [],
   "source": [
    "print(a.dag())\n",
    "print(a.dag() * vac)"
   ]
  },
  {
   "cell_type": "code",
   "execution_count": null,
   "id": "7c38f52e",
   "metadata": {},
   "outputs": [],
   "source": [
    "c = create(5)\n",
    "print(c)"
   ]
  },
  {
   "cell_type": "code",
   "execution_count": null,
   "id": "d4268dac",
   "metadata": {},
   "outputs": [],
   "source": [
    "print(c * vac)"
   ]
  },
  {
   "cell_type": "code",
   "execution_count": null,
   "id": "f57dc575",
   "metadata": {},
   "outputs": [],
   "source": [
    "print(c * c * vac)\n",
    "print(c ** 2 * vac)"
   ]
  },
  {
   "cell_type": "code",
   "execution_count": null,
   "id": "8ce28ee5",
   "metadata": {},
   "outputs": [],
   "source": [
    "print(c * a * vac) # Applying number operator on |0>\n",
    "print(c*a)"
   ]
  },
  {
   "cell_type": "code",
   "execution_count": null,
   "id": "0a6d5933",
   "metadata": {},
   "outputs": [],
   "source": [
    "print(c * a * (c * vac)) # Applying number operator on |1>"
   ]
  },
  {
   "cell_type": "code",
   "execution_count": null,
   "id": "c6441e32",
   "metadata": {},
   "outputs": [],
   "source": [
    "print(c * a * (c**2 * vac).unit()) # Applying number operator on |2>"
   ]
  },
  {
   "cell_type": "code",
   "execution_count": null,
   "id": "beaccb9e",
   "metadata": {},
   "outputs": [],
   "source": [
    "ket = basis(5, 2)\n",
    "print(ket)\n",
    "n = num(5)\n",
    "print(n)\n",
    "print(n * ket)\n",
    "ket = (basis(5, 0) + basis(5, 1)).unit()\n",
    "print(ket)\n",
    "print(n * ket)"
   ]
  },
  {
   "cell_type": "code",
   "execution_count": null,
   "id": "621492a3",
   "metadata": {},
   "outputs": [],
   "source": [
    "ket = basis(5, 2)\n",
    "print(ket * ket.dag())"
   ]
  },
  {
   "cell_type": "code",
   "execution_count": null,
   "id": "6fe223e3",
   "metadata": {
    "scrolled": true
   },
   "outputs": [],
   "source": [
    "print(fock_dm(5, 2))"
   ]
  },
  {
   "cell_type": "code",
   "execution_count": null,
   "id": "0012fef8",
   "metadata": {},
   "outputs": [],
   "source": [
    "print(ket2dm(ket))"
   ]
  },
  {
   "cell_type": "code",
   "execution_count": null,
   "id": "373c95cd",
   "metadata": {},
   "outputs": [],
   "source": [
    "x = coherent_dm(5, 1.25)\n",
    "\n",
    "y = coherent_dm(5, np.complex(0, 1.25))  # <-- note the 'j'\n",
    "\n",
    "z = thermal_dm(5, 0.125)\n",
    "\n",
    "print(np.testing.assert_almost_equal(fidelity(x, x), 1))\n",
    "\n",
    "np.testing.assert_almost_equal(hellinger_dist(x, y), 1.3819080728932833)\n"
   ]
  },
  {
   "cell_type": "code",
   "execution_count": null,
   "id": "95721d14",
   "metadata": {},
   "outputs": [],
   "source": [
    "vac = basis(5, 0)\n",
    "print(vac)\n",
    "\n",
    "one = basis(5, 1)\n",
    "print(one)\n",
    "\n",
    "c = create(5)\n",
    "print(c)\n",
    "\n",
    "N = num(5)\n",
    "print(N)\n",
    "\n",
    "np.testing.assert_almost_equal(expect(N, vac), 0)\n",
    "\n",
    "np.testing.assert_almost_equal(expect(N, one), 1)\n",
    "\n",
    "coh = coherent_dm(5, 1.0j)\n",
    "\n",
    "np.testing.assert_almost_equal(expect(N, coh), 0.9970555745806597)\n",
    "\n",
    "cat = (basis(5, 4) + 1.0j * basis(5, 3)).unit()\n",
    "\n",
    "np.testing.assert_almost_equal(expect(c, cat), 0.9999999999999998j)\n",
    "print(expect(N, (c**2 * vac).unit()))"
   ]
  },
  {
   "cell_type": "code",
   "execution_count": null,
   "id": "4497d994",
   "metadata": {},
   "outputs": [],
   "source": [
    "Sxi = sigmax()\n",
    "Sxi1 = sigmax()"
   ]
  },
  {
   "cell_type": "markdown",
   "id": "30e3137c",
   "metadata": {},
   "source": [
    "# Using Numpy and Scipy"
   ]
  },
  {
   "cell_type": "code",
   "execution_count": null,
   "id": "9dacb856",
   "metadata": {},
   "outputs": [],
   "source": [
    "## Defining XY Hamiltonian 1D - nearest neighbor interactions only\n",
    "sx = np.array([[0,1], [1, 0]])\n",
    "sy = np.array([[0, -1j], [1j, 0]])\n",
    "iden = np.eye(2)\n",
    "sx1sx2 = np.matmul(np.kron(sx, iden),np.kron(iden, sx))\n",
    "sy1sy2 = np.matmul(np.kron(sy, iden),np.kron(iden, sy))\n",
    "H = sx1sx2 + sy1sy2\n",
    "# print(H)\n",
    "N = 2\n",
    "Hm = np.zeros((2**N, 2**N), dtype = np.complex_)\n",
    "Sxisxi1 = np.zeros((2**N, 2**N), dtype = np.complex_)\n",
    "Syisyi1 = np.zeros((2**N, 2**N), dtype = np.complex_)\n",
    "for i in range(N):\n",
    "    Sxisxi1 = np.matmul(np.kron(sx, np.eye(2**(N-1))), np.kron(np.eye(2**(N-1)), sx))\n",
    "    Syisyi1 = np.matmul(np.kron(sy, np.eye(2**(N-1))), np.kron(np.eye(2**(N-1)), sy))\n",
    "    Hm += Sxisxi1 + Syisyi1  \n",
    "\n",
    "# normed_matrix = normalize(Hm, axis=1, norm='l1') - applicable only for real entry matrices\n",
    "print(Hm)"
   ]
  },
  {
   "cell_type": "code",
   "execution_count": 3,
   "id": "68ed2c35",
   "metadata": {},
   "outputs": [],
   "source": [
    "from scipy import linalg\n",
    "from scipy.linalg import expm, sinm, cosm\n",
    "\n",
    "# Pauli Matrices\n",
    "sigmaZ = sp.csc_matrix([[1, 0], [0, -1]])\n",
    "sigmaX = sp.csc_matrix([[0, 1], [1, 0]])\n",
    "sigmaY = sp.csc_matrix([[0, -1j], [1j, 0]])\n",
    "sigmaI = sp.csc_matrix([[1, 0], [0, 1]])\n",
    "sigmaH = sp.csc_matrix([[1, 1], [1, -1]])\n",
    "\n",
    "Z = np.array([[1, 0], [0, -1]])\n",
    "X = np.array([[0, 1], [1, 0]])\n",
    "Y = np.array([[0, -1j], [1j, 0]])\n",
    "I = np.array([[1, 0], [0, 1]])\n",
    "\n",
    "H = np.array([[1, 1], [1, -1]])\n",
    "\n",
    "params = {\n",
    "'N' : 1,\n",
    "'tau_list':[1, 0.5, 0.1, 0.05],\n",
    "'tau': 0.1,\n",
    "'n': 2,\n",
    "'alpha': 1,\n",
    "'T': 10,\n",
    "'opH': [X, Y], # Need to change this specific to Model\n",
    "'pulses': [I, Z] # Need to change this specific to Model\n",
    "}\n",
    "\n",
    "def normalizeWF(psi,**kwargs):\n",
    "    shape, dtype = psi.shape, psi.dtype\n",
    "    if np.array_equal(psi, np.zeros(shape, dtype = dtype)) == True:\n",
    "        NWF = psi\n",
    "    else:\n",
    "        NWF = psi/(np.sqrt(np.vdot(psi, psi)))\n",
    "    return NWF\n",
    "\n",
    "def sparseMatrices(a, **kwargs):\n",
    "    return sp.csc_matrix(a)\n",
    "      \n",
    "def tensorOperators(matrix2D, **kwargs):\n",
    "    return reduce(sp.kron, (sp.eye(2**kwargs['a']), matrix2D , sp.eye(2**kwargs['b'])))\n",
    "\n",
    "def initialVals(params, **kwargs):\n",
    "    n = params['n']\n",
    "    N = params['N']\n",
    "    alpha = params['alpha']\n",
    "    op = params['opH']\n",
    "    pulses = params['pulses']\n",
    "    r = list(np.random.randint(low = 1,high=30,size=N))\n",
    "    R = [np.power(1/x, alpha) for x in r]\n",
    "    # r = np.random.random_sample(size = 2**N)\n",
    "    psi0 = np.random.randn(2**N)\n",
    "    psi_nm = normalizeWF(psi0)\n",
    "    return n, N, r, op, pulses, psi_nm, R, alpha\n",
    "n, N, r, op, pulses, psi_nm, R, alpha = initialVals(params)"
   ]
  },
  {
   "cell_type": "code",
   "execution_count": 18,
   "id": "64b23572",
   "metadata": {},
   "outputs": [
    {
     "data": {
      "image/png": "[encoded data removed]",
      "text/plain": [
       "<Figure size 504x360 with 1 Axes>"
      ]
     },
     "metadata": {
      "needs_background": "light"
     },
     "output_type": "display_data"
    }
   ],
   "source": [
    "def TogglingFrameH(params, **kwargs):\n",
    "    N, TFH = params['N'], []\n",
    "    Hk, matrx = np.zeros((2**N,2**N)), np.zeros((2, 2))\n",
    "    pulses, opH = params['pulses'], params['opH']\n",
    "    for p in pulses:\n",
    "        for op in opH:\n",
    "            for i in range(N):\n",
    "                matrx = sparseMatrices(p@op@(np.linalg.inv(p)))\n",
    "                Hk += tensorOperators(matrx, a = i, b = N-1-i)\n",
    "        TFH.append(Hk)\n",
    "        Hk, matrx = np.zeros((2**N,2**N)), np.zeros((2, 2))\n",
    "    return TFH\n",
    "\n",
    "# TFH = TogglingFrameH(params)\n",
    "\n",
    "def TimeEvolOpForTFH(params, **kwargs):\n",
    "    TFH, unitary_timeOp, expTFH, tau, n = kwargs['TFH'], [], np.eye(2**params['N']), params['tau'], params['n']\n",
    "    for i, hk in enumerate(TFH):\n",
    "        expTFH = expm(-1j*tau*hk/n) @ expTFH\n",
    "    t_list = np.arange(0, 10, tau)\n",
    "    unitary_timeOp = [np.linalg.matrix_power(expTFH, i) for i, t in enumerate(t_list)]\n",
    "    return unitary_timeOp, t_list\n",
    "unitary_timeOp, t_list = TimeEvolOpForTFH(params, TFH = TogglingFrameH(params))\n",
    "\n",
    "params['N'] = 2\n",
    "params['n'] = 2\n",
    "params['pulses'] = [I, Z]\n",
    "params['opH'] = [X, Y]\n",
    "params['alpha'] = 1\n",
    "n, N, r, op, pulses, psi_nm, R, alpha = initialVals(params)\n",
    "\n",
    "mss=10\n",
    "\n",
    "# print(params['tau_list'])\n",
    "\n",
    "plt.figure(figsize=[7,5])\n",
    "for tau in params['tau_list']:\n",
    "    params['tau'] = tau\n",
    "    F = []\n",
    "    uOp, t = TimeEvolOpForTFH(params, TFH = TogglingFrameH(params))\n",
    "    psi_t = [normalizeWF(u@psi_nm) for i,u in enumerate(uOp)]\n",
    "    F = [np.power(np.abs(np.vdot(psi_nm, pt)), 2) for pt in psi_t]\n",
    "    plt.plot(t, F, \"--o\", label = f\"N={params['N']}, τ={tau}\", ms=mss)\n",
    "    mss -=2\n",
    "    plt.yscale(\"log\")\n",
    "    plt.legend()\n",
    "    plt.xlabel(\"Time\")\n",
    "    plt.ylabel(\"Fidelity\")\n",
    "    plt.title(\"Mitigating the noise with Pulse Sequences different τ\")\n",
    "    plt.grid('on')\n",
    "plt.show()"
   ]
  },
  {
   "cell_type": "code",
   "execution_count": null,
   "id": "0bb44e84",
   "metadata": {
    "scrolled": true
   },
   "outputs": [],
   "source": [
    "def H_noise(params, **kwargs):\n",
    "    N = params['N']\n",
    "    op = params['opH']\n",
    "    Hnoise = np.zeros((2**N, 2**N))\n",
    "    for i in range(N):\n",
    "        Hnoise += tensorOperators(sparseMatrices(op[0]), a = i, b = N-1-i)\n",
    "    return Hnoise\n",
    "# print(H_noise(params))    \n",
    "\n",
    "def utimeOpH(params, **kwargs):\n",
    "    H = kwargs['H']\n",
    "    t_list = np.arange(0,1, params['tau'])\n",
    "    unitary_timeOp = [expm(-1j*t*H) for t in t_list]\n",
    "    return unitary_timeOp, t_list\n",
    "\n",
    "def TogglingFrameH(params, **kwargs):\n",
    "    N, TFH = params['N'], []\n",
    "    Hk, matrx = np.zeros((2**N,2**N)), np.zeros((2, 2))\n",
    "    pulses, opH = params['pulses'], params['opH']\n",
    "    for p in pulses:\n",
    "        for op in opH:\n",
    "            for i in range(N):\n",
    "                matrx = sparseMatrices(p@op@(np.linalg.inv(p)))\n",
    "                Hk += R[i]*tensorOperators(matrx, a = i, b = N-1-i)\n",
    "        TFH.append(Hk)\n",
    "        Hk, matrx = np.zeros((2**N,2**N)), np.zeros((2, 2))\n",
    "    return TFH\n",
    "# TFH = TogglingFrameH(params)\n",
    "# print(TFH)\n",
    "\n",
    "def avgHFromTogglingFrameH(params, **kwargs):\n",
    "    n = params['n']\n",
    "    N = params['N']\n",
    "    avgH = np.zeros((2**N, 2**N))\n",
    "    TFH  = kwargs['TFH']\n",
    "    avgH = sum(TFH)/len(TFH)\n",
    "    return avgH\n",
    "# print(avgHFromTogglingFrameH(params))\n",
    "\n",
    "def TimeEvolOpForTFH(params, **kwargs):\n",
    "    TFH, unitary_timeOp, expTFH, tau, n, T = kwargs['TFH'], [], np.eye(2**params['N']), params['tau'], params['n'], params['T']\n",
    "    for i, hk in enumerate(TFH):\n",
    "        expTFH = expm(-1j*tau*hk/n) @ expTFH\n",
    "    t_list = np.arange(0, 10, tau)\n",
    "    unitary_timeOp = [np.linalg.matrix_power(expTFH, i) for i, t in enumerate(t_list)]\n",
    "    return unitary_timeOp, t_list\n",
    "unitary_timeOp, t_list = TimeEvolOpForTFH(params, TFH = TogglingFrameH(params))\n",
    "    \n",
    "def F_tvals(params, **kwargs):\n",
    "    H, Utop_present = kwargs['H'], kwargs['Utop_present']\n",
    "    H_present = kwargs['H_present']\n",
    "    F_t, Ft2, T_list, UToP = [], [], [], []\n",
    "    for i in params['tau_list']:\n",
    "        params['tau'] = i\n",
    "        if H_present == 'True':\n",
    "            unitary_timeOp, t_list = utimeOpH(params, H = H)\n",
    "        elif Utop_present == 'True':\n",
    "            unitary_timeOp, t_list = TFHutimeOp(params, H = H)\n",
    "        UToP.append(unitary_timeOp)\n",
    "        T_list.append(t_list)\n",
    "        psi_t = [normalizeWF(np.matmul(unitary_timeOp[i],psi_nm)) for i in range(len(unitary_timeOp))]\n",
    "        F_t.append([np.power(np.vdot(psi_nm, pt), 2) for pt in psi_t])\n",
    "#         Ft2 = [1-f for i in range(len(F_t)) for f in F_t[i]]\n",
    "#         t_list = [(i**2)*j**2 for j in t_list]\n",
    "#         plt.figure(figsize=[7,5])\n",
    "#         plt.plot( t_list, Ft2, label = f\"N={params['N']}, τ={params['tau']}\")\n",
    "#         plt.xlabel(\"$\\mathregular{(τT)^2}$\")\n",
    "#         plt.ylabel(\"$\\mathregular{(1 - F)}$\")\n",
    "#         plt.grid('on')\n",
    "#         plt.legend()\n",
    "        Ft2 = []\n",
    "    plt.show()\n",
    "    return unitary_timeOp, psi_t, F_t, Ft2, T_list, UToP\n",
    "\n",
    "def plottingFidelityVsTaus(params, **kwargs):\n",
    "    Utop_present = kwargs['Utop_present']\n",
    "    H_present = kwargs['H_present']\n",
    "    unitary_timeOp, psi_t, F_t, Ft2, T_list, UToP = F_tvals(params, H = H, H_present = H_present, Utop_present = Utop_present)\n",
    "    plt.figure(figsize=[7,5])\n",
    "    plt.xlabel(\"Time\")\n",
    "    plt.ylabel(\"Fidelity\")\n",
    "    plt.title(\"Mitigating the noise with Pulse Sequences different τ\")\n",
    "    plt.grid('on')\n",
    "    for i in range(len(F_t)):\n",
    "        plt.plot( T_list[i], F_t[i], label = f\"N={params['N']}, τ={params['tau_list'][i]}\")\n",
    "        plt.legend()\n",
    "    plt.show()\n",
    "    pass\n",
    "\n",
    "params['opH'] = [X, Y, Z]\n",
    "params['pulses'] = [I, X, Y, Z]\n",
    "params['n'] = 4\n",
    "# H = avgHFromTogglingFrameH(params, TFH = TogglingFrameH(params))\n",
    "# plottingFidelityVsTaus(params, H = H, H_present = 'True', Utop_present = 'False')\n",
    "# print(utimeOp(params, H = H, H_present = 'True', Utop_present = 'False'))\n",
    "# print(H)\n",
    "\n",
    "plottingFidelityVsTaus(params, H = H, H_present = 'False', Utop_present = 'True')\n",
    "# print(TFHutimeOp(params, H = H, H_present = 'True', Utop_present = 'False'))\n",
    "# print(H)"
   ]
  },
  {
   "cell_type": "code",
   "execution_count": null,
   "id": "023d749b",
   "metadata": {},
   "outputs": [],
   "source": [
    "params['N'] = 5\n",
    "params['opH'] = [X]\n",
    "params['pulses'] = [I, Z]\n",
    "params['n'] = 2\n",
    "n, N, r, op, pulses, psi_nm, R, alpha = initialVals(params)\n",
    "def TogglingFrame_Ising(params, **kwargs):\n",
    "    N = params['N']\n",
    "    TFH = []\n",
    "    pulses = params['pulses']\n",
    "    for p in pulses:\n",
    "        Hk, matrx1, matrx2 = np.zeros((2**N, 2**N), dtype=complex), np.zeros((2, 2)), np.zeros((2, 2)) \n",
    "        for op in params['opH']:\n",
    "            for i in range(N-1):\n",
    "                matrx1 = sparseMatrices(op)\n",
    "                matrx2 = sparseMatrices(op)\n",
    "                if N%2 == 0:\n",
    "                    if i%2 == 0 and (i+1)%2 != 0:\n",
    "                        matrx1 = sparseMatrices(p@op@(np.linalg.inv(p)))\n",
    "                    elif (i+1)%2 == 0 and (i%2!=0):\n",
    "                        matrx2 = sparseMatrices(p@op@(np.linalg.inv(p)))\n",
    "                elif N%2!=0:\n",
    "                    if i%2 == 0 and (i+1)%2 != 0:\n",
    "                        matrx2 = sparseMatrices(p@op@(np.linalg.inv(p)))\n",
    "                    elif (i+1)%2 == 0 and (i%2!=0):\n",
    "                        matrx1 = sparseMatrices(p@op@(np.linalg.inv(p)))\n",
    "                Hk += reduce(sp.kron, (sp.eye(2**i), matrx1, matrx2, sp.eye(2**(N-2-i))))\n",
    "        TFH.append(Hk)\n",
    "    return TFH\n",
    "# print(TogglingFrame_Ising(params))\n",
    "\n",
    "# H = avgHFromTogglingFrameH(params, TFH = TogglingFrame_Ising(params))\n",
    "# plottingFidelityVsTaus(params, H = H, H_present = 'True', Utop_present = 'False')\n",
    "\n",
    "# H = utopFromTFH(params, TFH = TogglingFrame_Ising(params))\n",
    "# plottingFidelityVsTaus(params, H = H, H_present = 'False', Utop_present = 'True')"
   ]
  },
  {
   "cell_type": "code",
   "execution_count": null,
   "id": "9e08b0d2",
   "metadata": {},
   "outputs": [],
   "source": [
    "lst = [np.eye(1), X, X, np.eye(1)]\n",
    "XX = reduce(np.kron, lst)\n",
    "print(XX)\n",
    "\n",
    "lst = [np.eye(1), Y, Y, np.eye(1)]\n",
    "YY = reduce(np.kron, lst)\n",
    "print(YY)\n",
    "\n",
    "print(XX+YY)"
   ]
  },
  {
   "cell_type": "code",
   "execution_count": null,
   "id": "5eb15740",
   "metadata": {},
   "outputs": [],
   "source": [
    "# Using Walsh Indices\n",
    "\n",
    "# Generates WI and stores as a col vector in dictionary corresponding to the site [key]\n",
    "def WalshIndicesGenerate(params, **kwargs):\n",
    "    N = params['N']\n",
    "    n = params['n']\n",
    "    qbit_wi = {}\n",
    "    for i in range(N):\n",
    "        qbit_wi[i] = np.full(n, i)\n",
    "    return qbit_wi\n",
    "# print(WalshIndicesGenerate(params))\n",
    "# qbit_wi = WalshIndicesGenerate(params)\n",
    "\n",
    "### Functions below are useful to construct the avg. H from WI\n",
    "\n",
    "# Generates WI to decouple within a given cutoff\n",
    "def WI_Decouple_cutoff(params, **kwargs):\n",
    "    N, n, cutoff_dist = params['N'], params['n'], kwargs['cutoff_dist']\n",
    "    WIR_x, WIR_y, wirx, wiry = [], [], [], []\n",
    "    for i in range(0, N, 1):\n",
    "        if i%cutoff_dist <= cutoff_dist-1: \n",
    "            wirx.append(i%(cutoff_dist))\n",
    "            wiry.append(i%(cutoff_dist))\n",
    "            if i%(cutoff_dist)+1 == cutoff_dist:\n",
    "                WIR_x.append(wirx)\n",
    "                WIR_y.append(wiry)\n",
    "                wirx, wiry = [], []\n",
    "    return (WIR_x, WIR_y)\n",
    "\n",
    "# print(WI_Decouple_cutoff(params, cutoff_dist = 3))\n",
    "# WIR = WI_Decouple_cutoff(params, cutoff_dist = 3)\n",
    "\n",
    "# Generates the terms in H for WI with cutoff\n",
    "def HamiltonianTermFromWI_cutoff(params, **kwargs):\n",
    "    N, matrx, WIR = params['N'], kwargs['matrx'], kwargs['WIR']\n",
    "    lst, Lfinal = [I]*N, []\n",
    "    for wir in WIR:\n",
    "        for j in range(len(wir)):\n",
    "            for k in range(j+1, len(wir), 1):\n",
    "                if wir[k]==wir[j] and k!=j:\n",
    "                    lst[k] = matrx\n",
    "                    lst[j] = matrx\n",
    "                    Lfinal.append(lst)\n",
    "                    lst = [I]*N                   \n",
    "    return Lfinal\n",
    "# print(HamiltonianTermFromWI_cutoff(params, cutoff_dist = 4, matrx = X, WIR = [[0, 0, 2, 0], [0, 1, 0]]))\n",
    "\n",
    "# This function gives the final H given a walsh_seq with a cutoff dist. \n",
    "def WI_HamiltonianFinal(params, **kwargs):\n",
    "    N = params['N']\n",
    "    H, cutoff_dist, matrxs, lst = np.zeros((2**N, 2**N)), kwargs['cutoff_dist'], kwargs['matrxs'], []\n",
    "    WIR = WI_Decouple_cutoff(params, cutoff_dist = cutoff_dist)\n",
    "    for matrx in matrxs:\n",
    "        for w in WIR:\n",
    "            lst = HamiltonianTermFromWI_cutoff(params, cutoff_dist = cutoff_dist, matrx = matrx, WIR = w)\n",
    "            for l in lst:\n",
    "                H += reduce(sp.kron, l)      \n",
    "    return H\n",
    "# print(WI_HamiltonianFinal(params, cutoff_dist = 3, matrxs = [X, Y]))\n",
    "\n",
    "# WI_Sequence(params, WIR = WI_Decouple_cutoff(params, cutoff_dist = 3))\n",
    "# WI_seq, c = {}, 0\n",
    "# for i in WIR_x:\n",
    "#     WI_seq[c] = qbit_wi[i]\n",
    "#     c+=1\n",
    "# print(WI_seq)"
   ]
  },
  {
   "cell_type": "code",
   "execution_count": 60,
   "id": "a1574f0c",
   "metadata": {
    "scrolled": true
   },
   "outputs": [
    {
     "data": {
      "text/plain": [
       "[[array([[1, 0],\n",
       "         [0, 1]]),\n",
       "  array([[1, 0],\n",
       "         [0, 1]]),\n",
       "  array([[1, 0],\n",
       "         [0, 1]])],\n",
       " [array([[ 0.+0.j, -0.-1.j],\n",
       "         [ 0.+1.j,  0.+0.j]]),\n",
       "  array([[ 1,  0],\n",
       "         [ 0, -1]]),\n",
       "  array([[ 1,  0],\n",
       "         [ 0, -1]])],\n",
       " [array([[0, 1],\n",
       "         [1, 0]]),\n",
       "  array([[1, 0],\n",
       "         [0, 1]]),\n",
       "  array([[1, 0],\n",
       "         [0, 1]])],\n",
       " [array([[ 1,  0],\n",
       "         [ 0, -1]]),\n",
       "  array([[1, 0],\n",
       "         [0, 1]]),\n",
       "  array([[1, 0],\n",
       "         [0, 1]])]]"
      ]
     },
     "execution_count": 60,
     "metadata": {},
     "output_type": "execute_result"
    }
   ],
   "source": [
    "H = np.array([[1, 1], [1, -1]])\n",
    "\n",
    "def WF_Conditions(tupleprdt, **kwargs): # tupleprdt is a list\n",
    "    for i, tprdt in enumerate(tupleprdt):\n",
    "        if tprdt[0] == tprdt[1] == 1:\n",
    "            tupleprdt[i] = I\n",
    "        elif tprdt[0] == -tprdt[1] == 1:\n",
    "            tupleprdt[i] = X\n",
    "        elif -tprdt[0] == tprdt[1] == 1:\n",
    "            tupleprdt[i] = Y\n",
    "        elif tprdt[0] == tprdt[1] == -1:\n",
    "            tupleprdt[i] = Z\n",
    "    return tupleprdt   \n",
    "# print(WF_Conditions(tupleprdt = [(1,1), (1,-1)]))\n",
    "\n",
    "def WF_Generate(params, **kwargs):\n",
    "    N, lst, W_x, W_y, tupleprdt = params['N'], [H], kwargs['W_x'], kwargs['W_y'], []\n",
    "    power = max(W_x, W_y)\n",
    "    lst = lst*power\n",
    "    Hf = reduce(np.kron, lst)\n",
    "    w_x, w_y = Hf[W_x], Hf[W_y]\n",
    "    for i, h in enumerate(w_x):\n",
    "        tupleprdt.append((h, w_y[i]))\n",
    "    tupleprdt = WF_Conditions(tupleprdt)\n",
    "    return tupleprdt\n",
    "# print(WF_Generate(params, W_x = 1, W_y = 2))\n",
    "    \n",
    "def WF_WIList(params, **kwargs):\n",
    "    W_x, W_y, tupleprdt, ps = kwargs['W_x'], kwargs['W_y'], [], [[]]\n",
    "    for i, w_x in enumerate(W_x):\n",
    "        tupleprdt.append(WF_Generate(params, W_x = w_x, W_y = W_y[i]))\n",
    "    ps = [[] for _ in range(len(max(tupleprdt,key=len)))]\n",
    "    padded_tupleprdt = list(zip(*itertools.zip_longest(*tupleprdt, fillvalue=I)))\n",
    "    for i, p in enumerate(ps):\n",
    "        for j, padded_ps in enumerate(padded_tupleprdt):\n",
    "            ps[i].append(padded_ps[i])\n",
    "    return ps\n",
    "\n",
    "WF_WIList(params, W_x = [1, 1, 1], W_y = [2, 1, 1])"
   ]
  },
  {
   "cell_type": "code",
   "execution_count": 16,
   "id": "478cd0f3",
   "metadata": {},
   "outputs": [
    {
     "name": "stdout",
     "output_type": "stream",
     "text": [
      "[[ 1  0  0  0]\n",
      " [ 0 -1  0  0]\n",
      " [ 0  0  1  0]\n",
      " [ 0  0  0 -1]]\n"
     ]
    }
   ],
   "source": [
    "lst = (I, Z) # Check how to create arrays of matrices of same type and use it for creating Walsh Functions\n",
    "print(reduce(np.kron, lst))"
   ]
  },
  {
   "cell_type": "code",
   "execution_count": null,
   "id": "dd68a2de",
   "metadata": {},
   "outputs": [],
   "source": [
    "lst = [[]]*3\n",
    "print(lst)"
   ]
  },
  {
   "cell_type": "code",
   "execution_count": null,
   "id": "c0c1ca55",
   "metadata": {},
   "outputs": [],
   "source": [
    "np.array(list(itertools.zip_longest(*alist, fillvalue='dummy'))).T"
   ]
  }
 ],
 "metadata": {
  "kernelspec": {
   "display_name": "Python 3 (ipykernel)",
   "language": "python",
   "name": "python3"
  },
  "language_info": {
   "codemirror_mode": {
    "name": "ipython",
    "version": 3
   },
   "file_extension": ".py",
   "mimetype": "text/x-python",
   "name": "python",
   "nbconvert_exporter": "python",
   "pygments_lexer": "ipython3",
   "version": "3.9.12"
  }
 },
 "nbformat": 4,
 "nbformat_minor": 5
}
