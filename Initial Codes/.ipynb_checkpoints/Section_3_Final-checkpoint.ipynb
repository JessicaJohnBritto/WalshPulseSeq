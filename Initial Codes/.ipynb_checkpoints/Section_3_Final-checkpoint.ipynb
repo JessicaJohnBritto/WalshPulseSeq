{
 "cells": [
  {
   "cell_type": "code",
   "execution_count": 1,
   "id": "c81d7479",
   "metadata": {},
   "outputs": [],
   "source": [
    "import numpy as np\n",
    "from numpy import linalg\n",
    "from scipy import linalg as splinalg\n",
    "import matplotlib.pyplot as plt\n",
    "from scipy import sparse as sp\n",
    "import scipy.sparse.linalg\n",
    "from functools import reduce\n",
    "import itertools\n",
    "from scipy import linalg\n",
    "from scipy.linalg import expm"
   ]
  },
  {
   "cell_type": "code",
   "execution_count": 2,
   "id": "6ff89cc7-89fb-4658-a8c8-68225467895b",
   "metadata": {},
   "outputs": [
    {
     "name": "stdout",
     "output_type": "stream",
     "text": [
      "1.24.3\n",
      "['D:\\\\AnacondaFinal\\\\anacondaInstall\\\\envs\\\\WalshPulseSeq\\\\lib\\\\site-packages\\\\numpy']\n"
     ]
    }
   ],
   "source": [
    "print(np.__version__)\n",
    "print(np.__path__)"
   ]
  },
  {
   "cell_type": "markdown",
   "id": "30e3137c",
   "metadata": {},
   "source": [
    "# Using Numpy and Scipy"
   ]
  },
  {
   "cell_type": "code",
   "execution_count": 3,
   "id": "3ca0edc3",
   "metadata": {},
   "outputs": [],
   "source": [
    "# Pauli Matrices\n",
    "sigmaZ = sp.csc_matrix([[1, 0], [0, -1]])\n",
    "sigmaX = sp.csc_matrix([[0, 1], [1, 0]])\n",
    "sigmaY = sp.csc_matrix([[0, -1j], [1j, 0]])\n",
    "sigmaI = sp.csc_matrix([[1, 0], [0, 1]])\n",
    "sigmaH = sp.csc_matrix([[1, 1], [1, -1]])\n",
    "\n",
    "Z = np.array([[1, 0], [0, -1]])\n",
    "X = np.array([[0, 1], [1, 0]])\n",
    "Y = np.array([[0, -1j], [1j, 0]])\n",
    "I = np.array([[1, 0], [0, 1]])\n",
    "\n",
    "H = np.array([[1, 1], [1, -1]])\n",
    "\n",
    "params = {\n",
    "'N' : 1,\n",
    "'tau_list':[0.05, 0.1, 0.5, 1],\n",
    "'tau': 0.1,\n",
    "'n': 2,\n",
    "'alpha': 1,\n",
    "'T': 10,\n",
    "    'R': [],\n",
    "    'r': [],\n",
    "    'alpha': 1,\n",
    "'opH': [X, Y], # Need to change this specific to Model\n",
    "'pulses': [I, Z] # Need to change this specific to Model\n",
    "}"
   ]
  },
  {
   "cell_type": "code",
   "execution_count": 4,
   "id": "68ed2c35",
   "metadata": {},
   "outputs": [],
   "source": [
    "def normalizeWF(psi,**kwargs):\n",
    "    shape, dtype = psi.shape, psi.dtype\n",
    "    NWF = psi\n",
    "    if np.array_equal(psi, np.zeros(shape, dtype = dtype)) == True:\n",
    "        NWF = psi\n",
    "    elif np.vdot(psi, psi) == 0:\n",
    "        NWF = psi\n",
    "    else:\n",
    "        NWF = psi/(np.sqrt(np.vdot(psi, psi)))\n",
    "    return NWF\n",
    "\n",
    "def initialVals(params, **kwargs):\n",
    "    n = params['n']\n",
    "    N = params['N']\n",
    "    alpha = params['alpha']\n",
    "    op = params['opH']\n",
    "    pulses = params['pulses']\n",
    "    r = list(np.random.randint(low = 1,high=30,size=N))\n",
    "    R = [np.power(1/x, alpha) for x in r]\n",
    "    # r = np.random.random_sample(size = 2**N)\n",
    "    psi0 = np.random.randn(2**N)\n",
    "    psi_nm = normalizeWF(psi0)\n",
    "    return n, N, r, op, pulses, psi_nm, R, alpha\n",
    "n, N, r, op, pulses, psi_nm, R, alpha = initialVals(params)"
   ]
  },
  {
   "cell_type": "code",
   "execution_count": 5,
   "id": "d46e68fc-9f48-423a-aae3-66bfd0eaec8f",
   "metadata": {},
   "outputs": [],
   "source": [
    "def WPSresource_Hamiltonian_TimeEvolOp_IsingType(params, **kwargs):\n",
    "    \"\"\"\n",
    "    Returns: Resource Hamiltonian (Hr) and \n",
    "    its time evolution for τ time.\n",
    "    \"\"\"\n",
    "    N, opH, unitary_timeOp = params['N'], params['opH'], 0\n",
    "    H_r, R, r, alpha = np.zeros((2**N, 2**N), dtype = complex), params['R'], params['r'], params['alpha']\n",
    "    lst = [I for _ in range(N)]\n",
    "    for op in opH:\n",
    "        for i in range(N):\n",
    "            for j in range(i+1, N, 1):\n",
    "                lst[i] = op\n",
    "                lst[j] = op\n",
    "                H_r += (np.abs(R[i]-R[j]))*reduce(np.kron, lst)/(np.power(np.abs(i-j), alpha))\n",
    "                lst = [I for _ in range(N)]\n",
    "    tau = params['tau']\n",
    "    unitary_timeOp = expm(-1j*tau*H_r/(params['n']))\n",
    "    return H_r, unitary_timeOp\n",
    "\n",
    "def WPSeq_TimeEvolOp(params, **kwargs):\n",
    "    \"\"\"\n",
    "    To input any Hamiltonian other than XY, use 'Hr' in kwargs.\n",
    "    **kwargs: Hr Optional\n",
    "    Returns: Unitary time evolution operator as per eq1\n",
    "    and time interval based on τ step.\n",
    "    \"\"\"\n",
    "    Pseq, unitary_timeOp, timeOpPHrP = params['pulses'], [], np.eye(2**(params['N']))\n",
    "    if 'Hr' in kwargs:\n",
    "        Hr = kwargs['Hr']\n",
    "        expHr = expm(-1j*params['tau']*Hr/(params['n']))\n",
    "    else:\n",
    "        Hr, expHr = WPSresource_Hamiltonian_TimeEvolOp_IsingType(params)\n",
    "    for i, p in enumerate(Pseq):\n",
    "        timeOpPHrP = np.linalg.inv(p) @ expHr @ p @ timeOpPHrP\n",
    "    t_list = np.arange(0, params['T'], params['tau'])\n",
    "    unitary_timeOp = [np.linalg.matrix_power(timeOpPHrP, i) for i, t in enumerate(t_list)]\n",
    "    return unitary_timeOp, t_list"
   ]
  },
  {
   "cell_type": "markdown",
   "id": "5bc4c14a",
   "metadata": {},
   "source": [
    "# Walsh Pulse Sequence"
   ]
  },
  {
   "cell_type": "markdown",
   "id": "9cd5ed2e",
   "metadata": {},
   "source": [
    "# Section 3: A and B"
   ]
  },
  {
   "cell_type": "code",
   "execution_count": 6,
   "id": "c8bf85df-1582-4429-9961-a72c74b441df",
   "metadata": {},
   "outputs": [],
   "source": [
    "H = np.array([[1, 1], [1, -1]])\n",
    "\n",
    "def WF_Conditions(tupleprdt, **kwargs): \n",
    "    \"\"\"\n",
    "    *args: tupleprdt is a list of tuple of \n",
    "    signs of wxi and wyi. \n",
    "    Returns: tupleprdt - a list of Pauli Ops\n",
    "    depending on eq 8 from the paper\n",
    "    \"\"\"\n",
    "    for i, tprdt in enumerate(tupleprdt):\n",
    "        if tprdt[0] == tprdt[1] == 1:\n",
    "            tupleprdt[i] = I\n",
    "        elif tprdt[0] == -tprdt[1] == 1:\n",
    "            tupleprdt[i] = X\n",
    "        elif -tprdt[0] == tprdt[1] == 1:\n",
    "            tupleprdt[i] = Y\n",
    "        elif tprdt[0] == tprdt[1] == -1:\n",
    "            tupleprdt[i] = Z\n",
    "#     print(tupleprdt)\n",
    "    return tupleprdt   \n",
    "# print(WF_Conditions(tupleprdt = [(1,1), (1,-1), (-1, -1)]))\n",
    "\n",
    "def WF_Generate(params, **kwargs):\n",
    "    \"\"\"\n",
    "    **kwargs: \n",
    "    'Wx', 'Wy' [Required] - list of one element \n",
    "    consisting the index of x, y part of one\n",
    "    qubit. \n",
    "    'q'[Optional] - gives the number of times H has\n",
    "    to tensor product with itself. Useful to form WF based\n",
    "    on the highest index of decoupling lists of Wx, Wy.\n",
    "    'We' [Optional] - used for generating only the WF \n",
    "    for a list of Walsh Indices without their corresp.\n",
    "    Pauli Ops.\n",
    "    Returns: lstPaulOp\n",
    "    With Required Parameters - a list of Pauli Ops\n",
    "    based on the W.I associated with that qubit.\n",
    "    With 'We' [Optional] parameter - a list of only WF\n",
    "    for a list of Walsh Indices without their corresp.\n",
    "    Pauli Ops.\n",
    "    \"\"\"\n",
    "    lst, q, signTuple, lstPaulOp = [], 0, [], []\n",
    "    H0, H1 = np.eye(1), H\n",
    "    if 'q' in kwargs:\n",
    "        q = kwargs['q']\n",
    "    elif 'We' in kwargs:\n",
    "        q = int(np.ceil(np.log2(np.max(kwargs['We'])+1)))\n",
    "    elif 'wx' and 'wy' in kwargs:\n",
    "        q = int(np.ceil(np.log2(max(kwargs['wx'], kwargs['wy'])+1)))\n",
    "    if q == 0:\n",
    "        lst = [H0]\n",
    "    else:\n",
    "        lst = [H1]\n",
    "        for i in range(q-1):\n",
    "            lst += [H1]\n",
    "    Hf = reduce(np.kron, lst)\n",
    "    if 'We' in kwargs:\n",
    "        lstPaulOp = [Hf[we] for we in kwargs['We']]\n",
    "    else:\n",
    "        wx, wy = kwargs['wx'], kwargs['wy']\n",
    "        wfx, wfy = Hf[wx], Hf[wy]\n",
    "        for i, wfx_k in enumerate(wfx):\n",
    "            signTuple += [(wfx_k, wfy[i])]\n",
    "        lstPaulOp = WF_Conditions(signTuple)\n",
    "    return lstPaulOp\n",
    "# print(WF_Generate(params, We = [0, 1]))\n",
    "# print(WF_Generate(params, wx = 1, wy = 1))"
   ]
  },
  {
   "cell_type": "code",
   "execution_count": 7,
   "id": "4e382c3b",
   "metadata": {},
   "outputs": [],
   "source": [
    "## This code works fine with setting deltas to zeros for all qbits.\n",
    "## Now, try with rotational angle errors in Pulses.\n",
    "\n",
    "def PulseRotError(params, **kwargs):\n",
    "    \"\"\"\n",
    "    **kwargs: 'Wx', 'Wy' [Required] - list consisting the \n",
    "    index of x, y part of each qubit.\n",
    "    Returns: Pseq - Pulse sequence.\n",
    "    \"\"\"\n",
    "    Wx, Wy, lstPaulOp, Pseq = kwargs['Wx'], kwargs['Wy'], [], []\n",
    "    q = int(np.ceil(np.log2(max(max(Wx, Wy))+1)))\n",
    "    for i, wx in enumerate(Wx):\n",
    "        lstPaulOp += [WF_Generate(params, wx = wx, wy = Wy[i], q = q)]\n",
    "    pseq_k = [[] for _ in range(len(lstPaulOp[0]))]\n",
    "    for i, ps_k in enumerate(pseq_k):\n",
    "        for j, paulop in enumerate(lstPaulOp):\n",
    "            s = params['WF_Wx'][j][i]\n",
    "            pseq_k[i] += [expm(-0.5j*(np.pi + params['deltaError_list'][j])*s*paulop[i])]\n",
    "    for i, ps_k in enumerate(pseq_k):\n",
    "        Pseq += [reduce(np.kron, ps_k)]\n",
    "    return Pseq\n",
    "params['N'] = 2\n",
    "Wx = list(range(0, params['N'], 1))\n",
    "params['WF_Wx'] = WF_Generate(params, We = Wx)\n",
    "params['deltaError_list'] = [0, 0]\n",
    "# params['deltaError_list'] = np.linspace(0.0000, 0.0001 * params['N'], params['N'])\n",
    "# PulseRotError(params, Wx = [0, 1], Wy = [0, 1])\n",
    "\n"
   ]
  },
  {
   "cell_type": "code",
   "execution_count": 48,
   "id": "193cf026-697c-4211-b7ba-95667c4e05ab",
   "metadata": {},
   "outputs": [],
   "source": [
    "## Initial Script\n",
    "\n",
    "params['alpha_list'] = [1.2]\n",
    "params['tau_list'] = [0.05, 0.1, 0.5, 1]\n",
    "params['alpha'] = params['alpha_list'][0]\n",
    "max_index = 3\n",
    "Wx, Wy = list(range(0, max_index, 1)), list(range(0, max_index, 1))\n",
    "params['N'] = len(Wx)\n",
    "params['deltaError_list'] = np.linspace(0.01, 0.0001 * params['N'], params['N'])\n",
    "params['WF_Wx'] = WF_Generate(params, We = Wx)\n",
    "params['pulses'] = PulseRotError(params, Wx = Wx, Wy = Wy)\n",
    "params['n'] = len(params['pulses'])\n",
    "params['opH'] = [X, Y] \n",
    "n, N, r, op, pulses, psi_nm, R, alpha = initialVals(params)\n",
    "params['R'], params['r'] = R, r"
   ]
  },
  {
   "cell_type": "code",
   "execution_count": 49,
   "id": "530bc0ed-6659-4826-8c7b-221c46ac7c8a",
   "metadata": {},
   "outputs": [
    {
     "data": {
      "image/png": "[encoded data removed]",
      "text/plain": [
       "<Figure size 640x480 with 1 Axes>"
      ]
     },
     "metadata": {},
     "output_type": "display_data"
    }
   ],
   "source": [
    "for alpha in params['alpha_list']:\n",
    "    params['alpha'] = alpha\n",
    "\n",
    "    cls = 10\n",
    "    for tau in params['tau_list']:\n",
    "        psi_t, F, uOp, t = [], [], [], []\n",
    "        params['tau'] = tau\n",
    "        uOp, t = WPSeq_TimeEvolOp(params)\n",
    "        psi_t = [normalizeWF(u@psi_nm) for i,u in enumerate(uOp)]\n",
    "        F = [1-np.power(np.abs(np.vdot(psi_nm, pt)), 2) for pt in psi_t]\n",
    "        plt.plot(t, F, \"--o\", label = f\"N={params['N']}, τ={tau}\", ms=cls)\n",
    "        cls -=2\n",
    "        plt.yscale(\"log\")\n",
    "        plt.legend()\n",
    "        plt.xlabel(\"Time\")\n",
    "        plt.ylabel(\"(1 - F)\")\n",
    "        plt.title(f\"Mitigating the noise with Pulse Sequences different τ, α={params['alpha']}\")\n",
    "        plt.grid('on')\n",
    "    plt.show()\n"
   ]
  },
  {
   "cell_type": "code",
   "execution_count": 26,
   "id": "6abb021a-158f-4525-99d6-74968dd84f16",
   "metadata": {},
   "outputs": [],
   "source": [
    "# When the delta values for each qubits are close to each other,\n",
    "# fidelity for all taus show the same patter.\n",
    "# When they are further apart from each other (step difference less than\n",
    "# order of -2), fidelity shows stark difference for different taus but \n",
    "# overlap for higher values of alpha."
   ]
  },
  {
   "cell_type": "code",
   "execution_count": null,
   "id": "4adec38d-85fc-4abe-9fd3-e2833ded7518",
   "metadata": {},
   "outputs": [],
   "source": []
  }
 ],
 "metadata": {
  "kernelspec": {
   "display_name": "Python 3 (ipykernel)",
   "language": "python",
   "name": "python3"
  },
  "language_info": {
   "codemirror_mode": {
    "name": "ipython",
    "version": 3
   },
   "file_extension": ".py",
   "mimetype": "text/x-python",
   "name": "python",
   "nbconvert_exporter": "python",
   "pygments_lexer": "ipython3",
   "version": "3.8.19"
  }
 },
 "nbformat": 4,
 "nbformat_minor": 5
}
