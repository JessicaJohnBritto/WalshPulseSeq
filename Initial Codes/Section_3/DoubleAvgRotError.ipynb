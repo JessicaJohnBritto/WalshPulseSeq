{
 "cells": [
  {
   "cell_type": "code",
   "execution_count": 5,
   "id": "a8b0f5eb-6a8b-4c83-aeb7-b13b37a469b8",
   "metadata": {},
   "outputs": [],
   "source": [
    "import numpy as np\n",
    "from numpy import linalg\n",
    "from scipy import linalg as splinalg\n",
    "import matplotlib.pyplot as plt\n",
    "from scipy import sparse as sp\n",
    "import scipy.sparse.linalg\n",
    "from functools import reduce\n",
    "import itertools\n",
    "from scipy import linalg\n",
    "from scipy.linalg import expm"
   ]
  },
  {
   "cell_type": "code",
   "execution_count": 6,
   "id": "df072983-db24-4e88-ba12-d69f43945df6",
   "metadata": {},
   "outputs": [],
   "source": [
    "# Pauli Matrices\n",
    "sigmaZ = sp.csc_matrix([[1, 0], [0, -1]])\n",
    "sigmaX = sp.csc_matrix([[0, 1], [1, 0]])\n",
    "sigmaY = sp.csc_matrix([[0, -1j], [1j, 0]])\n",
    "\n",
    "sigmaI = sp.csc_matrix([[1, 0], [0, 1]])\n",
    "sigmaH = sp.csc_matrix([[1, 1], [1, -1]])\n",
    "\n",
    "Z = np.array([[1, 0], [0, -1]])\n",
    "X = np.array([[0, 1], [1, 0]])\n",
    "Y = np.array([[0, -1j], [1j, 0]])\n",
    "I = np.array([[1, 0], [0, 1]])\n",
    "\n",
    "H = np.array([[1, 1], [1, -1]])\n",
    "\n",
    "params = {\n",
    "'N' : 1,\n",
    "'tau_list':[0.05, 0.1, 0.5, 1],\n",
    "'tau': 0.1,\n",
    "'n': 2,\n",
    "'alpha': 1,\n",
    "'T': 10,\n",
    "    'R': [],\n",
    "    'r': [],\n",
    "    'alpha': 1,\n",
    "'opH': [X, Y], # Need to change this specific to Model\n",
    "'pulses': [I, Z] # Need to change this specific to Model\n",
    "}"
   ]
  },
  {
   "cell_type": "code",
   "execution_count": 8,
   "id": "bfd64e2c-11ce-48b9-9c05-7bd4214175fa",
   "metadata": {},
   "outputs": [],
   "source": [
    "def normalizeWF(psi,**kwargs):\n",
    "    shape, dtype = psi.shape, psi.dtype\n",
    "    NWF = psi\n",
    "    if np.array_equal(psi, np.zeros(shape, dtype = dtype)) == True:\n",
    "        NWF = psi\n",
    "    elif np.vdot(psi, psi) == 0:\n",
    "        NWF = psi\n",
    "    else:\n",
    "        NWF = psi/(np.sqrt(np.vdot(psi, psi)))\n",
    "    return NWF\n",
    "\n",
    "def initialVals(params, **kwargs):\n",
    "    n = params['n']\n",
    "    N = params['N']\n",
    "    alpha = params['alpha']\n",
    "    op = params['opH']\n",
    "    pulses = params['pulses']\n",
    "    r = list(np.random.randint(low = 1,high=30,size=N))\n",
    "    R = [np.power(1/x, alpha) for x in r]\n",
    "    # r = np.random.random_sample(size = 2**N)\n",
    "    psi0 = np.random.randn(2**N)\n",
    "    psi_nm = normalizeWF(psi0)\n",
    "    return n, N, r, op, pulses, psi_nm, R, alpha\n",
    "n, N, r, op, pulses, psi_nm, R, alpha = initialVals(params)"
   ]
  },
  {
   "cell_type": "code",
   "execution_count": 9,
   "id": "1f096385-9f9d-46bf-afa0-1810be85be32",
   "metadata": {},
   "outputs": [],
   "source": [
    "def WF_Conditions(tupleprdt, **kwargs): # tupleprdt is a list\n",
    "    for i, tprdt in enumerate(tupleprdt):\n",
    "        if tprdt[0] == tprdt[1] == 1:\n",
    "            tupleprdt[i] = I\n",
    "        elif tprdt[0] == -tprdt[1] == 1:\n",
    "            tupleprdt[i] = X\n",
    "        elif -tprdt[0] == tprdt[1] == 1:\n",
    "            tupleprdt[i] = Y\n",
    "        elif tprdt[0] == tprdt[1] == -1:\n",
    "            tupleprdt[i] = Z\n",
    "    return tupleprdt  \n",
    "\n",
    "def WF_Generate(params, **kwargs):\n",
    "    N, lst, Wx, Wy, tupleprdt = params['N'], [H], params['Wx'], params['Wy'], []\n",
    "    q = max(Wx, Wy)\n",
    "    lst = lst*q\n",
    "    Hf = reduce(np.kron, lst)\n",
    "    wx, wy = Hf[Wx], Hf[Wy]\n",
    "    for i, h in enumerate(wx):\n",
    "        tupleprdt.append((h, wy[i]))\n",
    "    tupleprdt = WF_Conditions(tupleprdt)\n",
    "    return tupleprdt\n",
    "\n",
    "def WF_oneList(params, **kwargs):\n",
    "    q = max\n"
   ]
  },
  {
   "cell_type": "code",
   "execution_count": null,
   "id": "acc9b6a5-be44-47fa-a42d-51bfda350c05",
   "metadata": {},
   "outputs": [],
   "source": []
  },
  {
   "cell_type": "code",
   "execution_count": null,
   "id": "45b51252-fe0f-421f-8fcb-2efc4f090959",
   "metadata": {},
   "outputs": [],
   "source": [
    " "
   ]
  }
 ],
 "metadata": {
  "kernelspec": {
   "display_name": "Python 3 (ipykernel)",
   "language": "python",
   "name": "python3"
  },
  "language_info": {
   "codemirror_mode": {
    "name": "ipython",
    "version": 3
   },
   "file_extension": ".py",
   "mimetype": "text/x-python",
   "name": "python",
   "nbconvert_exporter": "python",
   "pygments_lexer": "ipython3",
   "version": "3.12.3"
  }
 },
 "nbformat": 4,
 "nbformat_minor": 5
}
